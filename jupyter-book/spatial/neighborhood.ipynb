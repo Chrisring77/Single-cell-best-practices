{
 "cells": [
  {
   "cell_type": "markdown",
   "id": "cef83dd0-68ed-43b6-a9b8-41e448245b86",
   "metadata": {},
   "source": [
    "# Neighborhood analysis\n",
    "## Motivation\n",
    "\n",
    "## Identifying interactions between spatial communities\n",
    "After annotating cell types or cell states in the dataset (or spots, according to the technology at end), we can quantify whether such annotations are spatially enriched. \n",
    "To this end, Computing a neighborhood enrichment can help us identify clusters that are neighbors in the tissue of interest. \n",
    "In short, it’s an enrichment score on spatial proximity of clusters: if observations (cells or spots) belonging to a cluster are often close to observations belonging to \n",
    "another cluster, then they will have a high score and will appear to be enriched. On the other hand, if they are far apart, and therefore are seldom neighbors, the score will be low and they can be defined as depleted.\n",
    "This score is based on a permutation-based test, and you can set the number of permutations with the n_perms argument (default is 1000).\n",
    "\n",
    "Since the function works on a spatial connectivity matrix (spatial graph), we need to compute that as well. This can be done with `squidpy.gr.spatial_neighbors()`.\n",
    "\n",
    "Finally, we’ll directly visualize the results with `squidpy.pl.nhood_enrichment()`.\n"
   ]
  },
  {
   "cell_type": "code",
   "execution_count": null,
   "id": "1c4178e6-b01c-4ac0-9acc-b2276acb4fdd",
   "metadata": {},
   "outputs": [],
   "source": [
    "sq.gr.spatial_neighbors(visium)\n",
    "sq.gr.nhood_enrichment(visium, cluster_key=\"cluster\")\n",
    "sq.pl.nhood_enrichment(\n",
    "    visium, cluster_key=\"cluster\", method=\"average\", figsize=(5, 5)\n",
    ")  # `method` compute the hierarchical clustering dendrogram for the heatmap"
   ]
  },
  {
   "cell_type": "markdown",
   "id": "0b8047dd-e2f9-48e9-95d2-bee80e2cfbcf",
   "metadata": {},
   "source": [
    "From the above plot, we can see that there seems to be an enrichment for clusters of the `Pyramidal_layer` and `Dentate_gyrus`. By looking at the spatial scatterplot above, we can confirm that these clusters are indeed \"neighbors\" as their members are often close.\n"
   ]
  },
  {
   "cell_type": "markdown",
   "id": "824cc9de-53db-4e09-b737-c7d171bdf63f",
   "metadata": {},
   "source": [
    "A similar approach to such problem is computing what we call an *interaction matrix*, that is, the sum of all connecting observations between clusters in tissue. Such approach is related to the neighborood enrichment analysis yet it is not a test, but should be viewed as a simple summary statistics of the spatial graph.\n",
    "Let's take a look at how the interaction matrix looks like for the two datasets."
   ]
  },
  {
   "cell_type": "code",
   "execution_count": null,
   "id": "d6d1ab15-716d-418d-8c09-a18af7cfc89b",
   "metadata": {},
   "outputs": [],
   "source": [
    "sq.gr.interaction_matrix(visium, cluster_key=\"cluster\")\n",
    "sq.pl.interaction_matrix(\n",
    "    visium, cluster_key=\"cluster\", method=\"average\", figsize=(5, 5)\n",
    ")"
   ]
  },
  {
   "cell_type": "markdown",
   "id": "132d9722-716e-458b-8fdb-0aaf9a959ee3",
   "metadata": {},
   "source": [
    "For the `visium` dataset instead, we roughly recapitulate the neighborhood enrichment test, yet we seem to not observe a particularly strong interaction between the `Pyramidal_layer` and `Dentate_gyrus` clusters. \n",
    "One explanation for such result is that the number of observations of such cluster is low, hence the low number of interactions."
   ]
  },
  {
   "cell_type": "code",
   "execution_count": 1,
   "id": "5044b5c3-08d0-4f2a-9ce8-e0b130ddbd29",
   "metadata": {},
   "outputs": [],
   "source": [
    "import scanpy as sc\n",
    "import squidpy as sq\n",
    "\n",
    "sc.settings.verbosity = 3\n",
    "sc.settings.set_figure_params(dpi=80, facecolor=\"white\")"
   ]
  },
  {
   "cell_type": "code",
   "execution_count": null,
   "id": "b87ab832-1124-444a-be72-2830ad7d97c8",
   "metadata": {},
   "outputs": [],
   "source": [
    "adata = sq.datasets.visium_hne_adata()"
   ]
  },
  {
   "cell_type": "code",
   "execution_count": null,
   "id": "607af0b7-349c-45be-9181-2932260c709f",
   "metadata": {},
   "outputs": [],
   "source": [
    "sq.pl.spatial_scatter(adata, color=[\"Nrgn\", \"Mbp\"])"
   ]
  },
  {
   "cell_type": "code",
   "execution_count": null,
   "id": "7c88563a-6927-4907-adaf-67b70639d1aa",
   "metadata": {},
   "outputs": [],
   "source": []
  }
 ],
 "metadata": {
  "kernelspec": {
   "display_name": "spatial-svg",
   "language": "python",
   "name": "spatial-svg"
  },
  "language_info": {
   "codemirror_mode": {
    "name": "ipython",
    "version": 3
   },
   "file_extension": ".py",
   "mimetype": "text/x-python",
   "name": "python",
   "nbconvert_exporter": "python",
   "pygments_lexer": "ipython3",
   "version": "3.9.16"
  }
 },
 "nbformat": 4,
 "nbformat_minor": 5
}
