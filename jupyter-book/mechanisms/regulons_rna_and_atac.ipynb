{
 "cells": [
  {
   "cell_type": "markdown",
   "id": "1c33ccac",
   "metadata": {
    "id": "1c33ccac",
    "pycharm": {
     "name": "#%% md\n"
    }
   },
   "source": [
    "## Gene regulatory network inference using RNA and ATAC features"
   ]
  },
  {
   "cell_type": "markdown",
   "id": "bb76aaf1-918d-49f6-951c-b96f640f5e46",
   "metadata": {
    "pycharm": {
     "name": "#%% md\n"
    }
   },
   "source": [
    "The usage chromatin-accessible peaks and target genes together is helpful due to an assumed mechanistic relationship during the control of gene regulation betwene those. Briefly, regulatory regions annotated as promoters and local/distal enhancers act during the early phases of gene expression regulation, and their accessibility increase of decrease can be used as a proxy for changes in its overall state. Hence, the correlation between proximal and distal accessible elements and target genes within a genome neighborhood distance (e.g. less than 200 Mbp), is relevant and useful as a way to annotate regulatory relationships and include those for Gene Regulatory Network (GRN inference.\n",
    "\n",
    "Using sequencing data describing gene (RNA) and peak (ATAC) features, tools that build correlation matrices between peaks and matrices are useful for summarizing the strongest interactions. In this notebook, we will use the package FigR to describe such GRN building steps on a donor of the NeurIPs dataset. Preparation scripts of this notebook will use cisTopic to describe the most important peak groups that are the cell-to-cell variability in the observed count matrix."
   ]
  },
  {
   "cell_type": "markdown",
   "id": "85d3f5c7-2157-4129-9cdc-462a91905984",
   "metadata": {
    "pycharm": {
     "name": "#%% md\n"
    }
   },
   "source": [
    "### Environment setup"
   ]
  },
  {
   "cell_type": "code",
   "execution_count": 1,
   "id": "a54f7447-a03d-4bb8-857f-ac859ac3056f",
   "metadata": {
    "pycharm": {
     "name": "#%%\n"
    }
   },
   "outputs": [
    {
     "name": "stderr",
     "output_type": "stream",
     "text": [
      "Loading required package: Matrix\n",
      "\n",
      "Loading required package: SummarizedExperiment\n",
      "\n",
      "Loading required package: MatrixGenerics\n",
      "\n",
      "Loading required package: matrixStats\n",
      "\n",
      "\n",
      "Attaching package: ‘MatrixGenerics’\n",
      "\n",
      "\n",
      "The following objects are masked from ‘package:matrixStats’:\n",
      "\n",
      "    colAlls, colAnyNAs, colAnys, colAvgsPerRowSet, colCollapse,\n",
      "    colCounts, colCummaxs, colCummins, colCumprods, colCumsums,\n",
      "    colDiffs, colIQRDiffs, colIQRs, colLogSumExps, colMadDiffs,\n",
      "    colMads, colMaxs, colMeans2, colMedians, colMins, colOrderStats,\n",
      "    colProds, colQuantiles, colRanges, colRanks, colSdDiffs, colSds,\n",
      "    colSums2, colTabulates, colVarDiffs, colVars, colWeightedMads,\n",
      "    colWeightedMeans, colWeightedMedians, colWeightedSds,\n",
      "    colWeightedVars, rowAlls, rowAnyNAs, rowAnys, rowAvgsPerColSet,\n",
      "    rowCollapse, rowCounts, rowCummaxs, rowCummins, rowCumprods,\n",
      "    rowCumsums, rowDiffs, rowIQRDiffs, rowIQRs, rowLogSumExps,\n",
      "    rowMadDiffs, rowMads, rowMaxs, rowMeans2, rowMedians, rowMins,\n",
      "    rowOrderStats, rowProds, rowQuantiles, rowRanges, rowRanks,\n",
      "    rowSdDiffs, rowSds, rowSums2, rowTabulates, rowVarDiffs, rowVars,\n",
      "    rowWeightedMads, rowWeightedMeans, rowWeightedMedians,\n",
      "    rowWeightedSds, rowWeightedVars\n",
      "\n",
      "\n",
      "Loading required package: GenomicRanges\n",
      "\n",
      "Loading required package: stats4\n",
      "\n",
      "Loading required package: BiocGenerics\n",
      "\n",
      "\n",
      "Attaching package: ‘BiocGenerics’\n",
      "\n",
      "\n",
      "The following objects are masked from ‘package:stats’:\n",
      "\n",
      "    IQR, mad, sd, var, xtabs\n",
      "\n",
      "\n",
      "The following objects are masked from ‘package:base’:\n",
      "\n",
      "    anyDuplicated, append, as.data.frame, basename, cbind, colnames,\n",
      "    dirname, do.call, duplicated, eval, evalq, Filter, Find, get, grep,\n",
      "    grepl, intersect, is.unsorted, lapply, Map, mapply, match, mget,\n",
      "    order, paste, pmax, pmax.int, pmin, pmin.int, Position, rank,\n",
      "    rbind, Reduce, rownames, sapply, setdiff, sort, table, tapply,\n",
      "    union, unique, unsplit, which.max, which.min\n",
      "\n",
      "\n",
      "Loading required package: S4Vectors\n",
      "\n",
      "\n",
      "Attaching package: ‘S4Vectors’\n",
      "\n",
      "\n",
      "The following objects are masked from ‘package:Matrix’:\n",
      "\n",
      "    expand, unname\n",
      "\n",
      "\n",
      "The following objects are masked from ‘package:base’:\n",
      "\n",
      "    expand.grid, I, unname\n",
      "\n",
      "\n",
      "Loading required package: IRanges\n",
      "\n",
      "Loading required package: GenomeInfoDb\n",
      "\n",
      "Loading required package: Biobase\n",
      "\n",
      "Welcome to Bioconductor\n",
      "\n",
      "    Vignettes contain introductory material; view with\n",
      "    'browseVignettes()'. To cite Bioconductor, see\n",
      "    'citation(\"Biobase\")', and for packages 'citation(\"pkgname\")'.\n",
      "\n",
      "\n",
      "\n",
      "Attaching package: ‘Biobase’\n",
      "\n",
      "\n",
      "The following object is masked from ‘package:MatrixGenerics’:\n",
      "\n",
      "    rowMedians\n",
      "\n",
      "\n",
      "The following objects are masked from ‘package:matrixStats’:\n",
      "\n",
      "    anyMissing, rowMedians\n",
      "\n",
      "\n",
      "Loading required package: dplyr\n",
      "\n",
      "\n",
      "Attaching package: ‘dplyr’\n",
      "\n",
      "\n",
      "The following object is masked from ‘package:Biobase’:\n",
      "\n",
      "    combine\n",
      "\n",
      "\n",
      "The following objects are masked from ‘package:GenomicRanges’:\n",
      "\n",
      "    intersect, setdiff, union\n",
      "\n",
      "\n",
      "The following object is masked from ‘package:GenomeInfoDb’:\n",
      "\n",
      "    intersect\n",
      "\n",
      "\n",
      "The following objects are masked from ‘package:IRanges’:\n",
      "\n",
      "    collapse, desc, intersect, setdiff, slice, union\n",
      "\n",
      "\n",
      "The following objects are masked from ‘package:S4Vectors’:\n",
      "\n",
      "    first, intersect, rename, setdiff, setequal, union\n",
      "\n",
      "\n",
      "The following objects are masked from ‘package:BiocGenerics’:\n",
      "\n",
      "    combine, intersect, setdiff, union\n",
      "\n",
      "\n",
      "The following object is masked from ‘package:matrixStats’:\n",
      "\n",
      "    count\n",
      "\n",
      "\n",
      "The following objects are masked from ‘package:stats’:\n",
      "\n",
      "    filter, lag\n",
      "\n",
      "\n",
      "The following objects are masked from ‘package:base’:\n",
      "\n",
      "    intersect, setdiff, setequal, union\n",
      "\n",
      "\n",
      "Loading required package: ggplot2\n",
      "\n",
      "Loading required package: cowplot\n",
      "\n",
      "Loading required package: chromVAR\n",
      "\n",
      "\n",
      "\n",
      "Loading required package: motifmatchr\n",
      "\n"
     ]
    }
   ],
   "source": [
    "suppressWarnings(library(FigR))"
   ]
  },
  {
   "cell_type": "markdown",
   "id": "6acb6243-0a7a-40e8-9f5d-1358be946872",
   "metadata": {
    "pycharm": {
     "name": "#%% md\n"
    }
   },
   "source": [
    "The data that downloaded belongs to a shareseq dataset, and it is part of the core FigR tutorials."
   ]
  },
  {
   "cell_type": "code",
   "execution_count": 3,
   "outputs": [],
   "source": [
    "setwd('/mnt/c/Users/ignacio.ibarra/Dropbox/workspace/theislab/extended-single-cell-best-practices/jupyter-book/mechanisms')"
   ],
   "metadata": {
    "collapsed": false,
    "pycharm": {
     "name": "#%%\n"
    }
   }
  },
  {
   "cell_type": "code",
   "execution_count": 4,
   "id": "f14a819a-471d-4579-8d32-3d2bc24c437f",
   "metadata": {
    "pycharm": {
     "name": "#%%\n"
    }
   },
   "outputs": [],
   "source": [
    "# for testing purposes, here we define a subset of features\n",
    "ncells = 100\n",
    "nfeatures = 6227"
   ]
  },
  {
   "cell_type": "markdown",
   "source": [
    "Load multiome data from NeurIPs (donor s1d1)"
   ],
   "metadata": {
    "collapsed": false,
    "pycharm": {
     "name": "#%% md\n"
    }
   }
  },
  {
   "cell_type": "markdown",
   "source": [
    "Loading RNA"
   ],
   "metadata": {
    "collapsed": false,
    "pycharm": {
     "name": "#%% md\n"
    }
   },
   "outputs": [
    {
     "ename": "ERROR",
     "evalue": "Error in parse(text = x, srcfile = src): <text>:1:9: unexpected symbol\n1: Loading RNA\n            ^\n",
     "output_type": "error",
     "traceback": [
      "Error in parse(text = x, srcfile = src): <text>:1:9: unexpected symbol\n1: Loading RNA\n            ^\nTraceback:\n"
     ]
    }
   ],
   "execution_count": 79
  },
  {
   "cell_type": "code",
   "execution_count": 5,
   "id": "73d401bf-8c1d-4ef5-bce2-06b4379319ec",
   "metadata": {
    "pycharm": {
     "name": "#%%\n"
    }
   },
   "outputs": [
    {
     "data": {
      "text/html": "<style>\n.list-inline {list-style: none; margin:0; padding: 0}\n.list-inline>li {display: inline-block}\n.list-inline>li:not(:last-child)::after {content: \"\\00b7\"; padding: 0 .5ex}\n</style>\n<ol class=list-inline><li>13431</li><li>100</li></ol>\n",
      "text/markdown": "1. 13431\n2. 100\n\n\n",
      "text/latex": "\\begin{enumerate*}\n\\item 13431\n\\item 100\n\\end{enumerate*}\n",
      "text/plain": "[1] 13431   100"
     },
     "metadata": {},
     "output_type": "display_data"
    }
   ],
   "source": [
    "library(Matrix)\n",
    "m <- read.csv('../../data/openproblems_bmmc_multiome_genes_filtered_rna_s1d1.csv.gz', nrows=ncells, row.names=1)\n",
    "# this is a cells x genes matrix, so we have to transpose it to match with FigR (genes x cells)\n",
    "RNAmat <- t(as(as.matrix(m), \"sparseMatrix\"))\n",
    "dim(RNAmat)"
   ]
  },
  {
   "cell_type": "markdown",
   "id": "c6f8c04a-91a9-466d-aee6-b33d0ff9e46f",
   "metadata": {
    "pycharm": {
     "name": "#%% md\n"
    }
   },
   "source": [
    "### Load the ATAC seq data"
   ]
  },
  {
   "cell_type": "code",
   "execution_count": 7,
   "id": "4ebaff36-946c-4843-a70a-4759396d7eed",
   "metadata": {
    "pycharm": {
     "name": "#%%\n"
    }
   },
   "outputs": [
    {
     "data": {
      "text/html": "<style>\n.list-inline {list-style: none; margin:0; padding: 0}\n.list-inline>li {display: inline-block}\n.list-inline>li:not(:last-child)::after {content: \"\\00b7\"; padding: 0 .5ex}\n</style>\n<ol class=list-inline><li>100</li><li>30</li></ol>\n",
      "text/markdown": "1. 100\n2. 30\n\n\n",
      "text/latex": "\\begin{enumerate*}\n\\item 100\n\\item 30\n\\end{enumerate*}\n",
      "text/plain": "[1] 100  30"
     },
     "metadata": {},
     "output_type": "display_data"
    }
   ],
   "source": [
    "obs <- read.csv('../../data/openproblems_bmmc_multiome_genes_filtered_atac_s1d1_obs.csv.gz', row.names=1, nrows=ncells)\n",
    "dim(obs)"
   ]
  },
  {
   "cell_type": "markdown",
   "source": [
    "Convert the raw counts from donor s1d1 into a SummarizedExperiment object"
   ],
   "metadata": {
    "collapsed": false,
    "pycharm": {
     "name": "#%% md\n"
    }
   }
  },
  {
   "cell_type": "code",
   "execution_count": 8,
   "outputs": [
    {
     "name": "stderr",
     "output_type": "stream",
     "text": [
      "Loading required package: MatrixGenerics\n",
      "\n",
      "Loading required package: matrixStats\n",
      "\n",
      "\n",
      "Attaching package: ‘MatrixGenerics’\n",
      "\n",
      "\n",
      "The following objects are masked from ‘package:matrixStats’:\n",
      "\n",
      "    colAlls, colAnyNAs, colAnys, colAvgsPerRowSet, colCollapse,\n",
      "    colCounts, colCummaxs, colCummins, colCumprods, colCumsums,\n",
      "    colDiffs, colIQRDiffs, colIQRs, colLogSumExps, colMadDiffs,\n",
      "    colMads, colMaxs, colMeans2, colMedians, colMins, colOrderStats,\n",
      "    colProds, colQuantiles, colRanges, colRanks, colSdDiffs, colSds,\n",
      "    colSums2, colTabulates, colVarDiffs, colVars, colWeightedMads,\n",
      "    colWeightedMeans, colWeightedMedians, colWeightedSds,\n",
      "    colWeightedVars, rowAlls, rowAnyNAs, rowAnys, rowAvgsPerColSet,\n",
      "    rowCollapse, rowCounts, rowCummaxs, rowCummins, rowCumprods,\n",
      "    rowCumsums, rowDiffs, rowIQRDiffs, rowIQRs, rowLogSumExps,\n",
      "    rowMadDiffs, rowMads, rowMaxs, rowMeans2, rowMedians, rowMins,\n",
      "    rowOrderStats, rowProds, rowQuantiles, rowRanges, rowRanks,\n",
      "    rowSdDiffs, rowSds, rowSums2, rowTabulates, rowVarDiffs, rowVars,\n",
      "    rowWeightedMads, rowWeightedMeans, rowWeightedMedians,\n",
      "    rowWeightedSds, rowWeightedVars\n",
      "\n",
      "\n",
      "Loading required package: GenomicRanges\n",
      "\n",
      "Loading required package: stats4\n",
      "\n",
      "Loading required package: BiocGenerics\n",
      "\n",
      "\n",
      "Attaching package: ‘BiocGenerics’\n",
      "\n",
      "\n",
      "The following objects are masked from ‘package:stats’:\n",
      "\n",
      "    IQR, mad, sd, var, xtabs\n",
      "\n",
      "\n",
      "The following objects are masked from ‘package:base’:\n",
      "\n",
      "    anyDuplicated, append, as.data.frame, basename, cbind, colnames,\n",
      "    dirname, do.call, duplicated, eval, evalq, Filter, Find, get, grep,\n",
      "    grepl, intersect, is.unsorted, lapply, Map, mapply, match, mget,\n",
      "    order, paste, pmax, pmax.int, pmin, pmin.int, Position, rank,\n",
      "    rbind, Reduce, rownames, sapply, setdiff, sort, table, tapply,\n",
      "    union, unique, unsplit, which.max, which.min\n",
      "\n",
      "\n",
      "Loading required package: S4Vectors\n",
      "\n",
      "\n",
      "Attaching package: ‘S4Vectors’\n",
      "\n",
      "\n",
      "The following objects are masked from ‘package:Matrix’:\n",
      "\n",
      "    expand, unname\n",
      "\n",
      "\n",
      "The following objects are masked from ‘package:base’:\n",
      "\n",
      "    expand.grid, I, unname\n",
      "\n",
      "\n",
      "Loading required package: IRanges\n",
      "\n",
      "Loading required package: GenomeInfoDb\n",
      "\n",
      "Loading required package: Biobase\n",
      "\n",
      "Welcome to Bioconductor\n",
      "\n",
      "    Vignettes contain introductory material; view with\n",
      "    'browseVignettes()'. To cite Bioconductor, see\n",
      "    'citation(\"Biobase\")', and for packages 'citation(\"pkgname\")'.\n",
      "\n",
      "\n",
      "\n",
      "Attaching package: ‘Biobase’\n",
      "\n",
      "\n",
      "The following object is masked from ‘package:MatrixGenerics’:\n",
      "\n",
      "    rowMedians\n",
      "\n",
      "\n",
      "The following objects are masked from ‘package:matrixStats’:\n",
      "\n",
      "    anyMissing, rowMedians\n",
      "\n",
      "\n"
     ]
    }
   ],
   "source": [
    "library(SummarizedExperiment)"
   ],
   "metadata": {
    "collapsed": false,
    "pycharm": {
     "name": "#%%\n"
    }
   }
  },
  {
   "cell_type": "markdown",
   "source": [
    "Load peak counts for donor s1d1"
   ],
   "metadata": {
    "collapsed": false,
    "pycharm": {
     "name": "#%% md\n"
    }
   }
  },
  {
   "cell_type": "code",
   "execution_count": 22,
   "outputs": [
    {
     "name": "stdout",
     "output_type": "stream",
     "text": [
      "[1] 1008 6227\n"
     ]
    }
   ],
   "source": [
    "ATAC <- read.csv('../../data/openproblems_bmmc_multiome_genes_filtered_atac_s1d1_counts_transposed_1000.csv.gz', nrows=nfeatures, row.names=1)\n",
    "print(dim(ATAC))\n",
    "\n",
    "if(ncells != -1)\n",
    "    ATAC <- ATAC[c(1:nrow(ATAC)),c(1:ncells)]"
   ],
   "metadata": {
    "collapsed": false,
    "pycharm": {
     "name": "#%%\n"
    }
   }
  },
  {
   "cell_type": "markdown",
   "source": [
    "Convert into SummarizedExperiment object"
   ],
   "metadata": {
    "collapsed": false,
    "pycharm": {
     "name": "#%% md\n"
    }
   },
   "outputs": [
    {
     "ename": "ERROR",
     "evalue": "Error in parse(text = x, srcfile = src): <text>:1:9: unexpected symbol\n1: Convert into\n            ^\n",
     "output_type": "error",
     "traceback": [
      "Error in parse(text = x, srcfile = src): <text>:1:9: unexpected symbol\n1: Convert into\n            ^\nTraceback:\n"
     ]
    }
   ],
   "execution_count": 52
  },
  {
   "cell_type": "code",
   "execution_count": 23,
   "outputs": [],
   "source": [
    "# colnames(ATAC)"
   ],
   "metadata": {
    "collapsed": false,
    "pycharm": {
     "name": "#%%\n"
    }
   }
  },
  {
   "cell_type": "code",
   "execution_count": 25,
   "outputs": [],
   "source": [
    "ATAC.se <- makeSummarizedExperimentFromDataFrame(ATAC)\n",
    "ATAC_colData <- read.csv('../../data/openproblems_bmmc_multiome_genes_filtered_atac_s1d1_obs.csv.gz', nrows=ncells, row.names=1)\n"
   ],
   "metadata": {
    "collapsed": false,
    "pycharm": {
     "name": "#%%\n"
    }
   }
  },
  {
   "cell_type": "markdown",
   "source": [
    "Setup the colData columns from ATAC"
   ],
   "metadata": {
    "collapsed": false,
    "pycharm": {
     "name": "#%% md\n"
    }
   }
  },
  {
   "cell_type": "code",
   "execution_count": 26,
   "id": "ac275241-6574-4612-83a0-1726712b6e7f",
   "metadata": {
    "pycharm": {
     "name": "#%%\n"
    }
   },
   "outputs": [],
   "source": [
    "suppressWarnings(for(c in colnames(ATAC_colData)){\n",
    "    # print(c)\n",
    "    colData(ATAC.se)[c] <- ATAC_colData[c]\n",
    "})"
   ]
  },
  {
   "cell_type": "code",
   "execution_count": 27,
   "outputs": [
    {
     "data": {
      "text/html": "<style>\n.list-inline {list-style: none; margin:0; padding: 0}\n.list-inline>li {display: inline-block}\n.list-inline>li:not(:last-child)::after {content: \"\\00b7\"; padding: 0 .5ex}\n</style>\n<ol class=list-inline><li>1008</li><li>97</li><li>13431</li><li>100</li></ol>\n",
      "text/markdown": "1. 1008\n2. 97\n3. 13431\n4. 100\n\n\n",
      "text/latex": "\\begin{enumerate*}\n\\item 1008\n\\item 97\n\\item 13431\n\\item 100\n\\end{enumerate*}\n",
      "text/plain": "[1]  1008    97 13431   100"
     },
     "metadata": {},
     "output_type": "display_data"
    }
   ],
   "source": [
    "c(dim(ATAC.se), dim(RNAmat))"
   ],
   "metadata": {
    "collapsed": false,
    "pycharm": {
     "name": "#%%\n"
    }
   }
  },
  {
   "cell_type": "markdown",
   "id": "c526193b-dd8c-46b1-8a61-d71c125faa17",
   "metadata": {
    "pycharm": {
     "name": "#%% md\n"
    }
   },
   "source": [
    "Preprocessing of SummarizedExperimentObject using the number of cells"
   ]
  },
  {
   "cell_type": "code",
   "execution_count": 28,
   "id": "333a6d4b-9095-4558-9b9a-358b6ad4c388",
   "metadata": {
    "pycharm": {
     "name": "#%%\n"
    }
   },
   "outputs": [],
   "source": [
    "set.seed(123)\n",
    "# cellsToKeep <- sample(colnames(ATAC.se), size = 10000, replace = FALSE)\n",
    "# ATAC.se <- ATAC.se[,cellsToKeep]\n",
    "# RNAmat <- RNAmat[,cellsToKeep]\n",
    "\n",
    "# Remove genes with zero expression across all cells\n",
    "RNAmat <- RNAmat[Matrix::rowSums(RNAmat) != 0,]"
   ]
  },
  {
   "cell_type": "markdown",
   "id": "443beb90-59e8-4321-8984-6ff7367ff508",
   "metadata": {
    "pycharm": {
     "name": "#%% md\n"
    }
   },
   "source": [
    "### CisTopic step"
   ]
  },
  {
   "cell_type": "markdown",
   "id": "f943eb42-70aa-4ef0-b78b-59c31d31d579",
   "metadata": {
    "pycharm": {
     "name": "#%% md\n"
    }
   },
   "source": [
    "Here we prepare the input for cistopic from ATAC raw counts, and calculate of the cisTopic object"
   ]
  },
  {
   "cell_type": "markdown",
   "source": [
    "Installation of cisTopic (if required)."
   ],
   "metadata": {
    "collapsed": false,
    "pycharm": {
     "name": "#%% md\n"
    }
   }
  },
  {
   "cell_type": "code",
   "execution_count": 91,
   "id": "318d7865-4cb8-41ad-95af-e33b36c63e2f",
   "metadata": {
    "pycharm": {
     "name": "#%%\n"
    }
   },
   "outputs": [],
   "source": [
    "# ```\n",
    "# devtools::install_github(\"aertslab/cisTopic\")\n",
    "#"
   ]
  },
  {
   "cell_type": "code",
   "execution_count": 92,
   "id": "4481fbdf-bf50-4444-8f39-718a211d0247",
   "metadata": {
    "pycharm": {
     "name": "#%%\n"
    }
   },
   "outputs": [],
   "source": [
    "suppressWarnings(library(cisTopic))"
   ]
  },
  {
   "cell_type": "code",
   "execution_count": null,
   "id": "1ef3d33d-c915-4256-a484-63522808e491",
   "metadata": {
    "pycharm": {
     "name": "#%%\n",
     "is_executing": true
    }
   },
   "outputs": [],
   "source": [
    "cistopic_bkp_path <- \"../../data/openproblems_bmmc_multiome_genes_filtered_atac_s1d1_counts_cisTopic_100.rds\"\n",
    "\n",
    "if(!file.exists(cistopic_bkp_path)){\n",
    "    # the number of topics to test\n",
    "    n_topics = 1:25\n",
    "\n",
    "    atac <- read.csv('../../data/openproblems_bmmc_multiome_genes_filtered_atac_s1d1_counts.csv.gz', row.names=1)\n",
    "    rownames(atac) <- paste0(atac$chr, ':', atac$start, '-', atac$end)\n",
    "    atac$chr <- NULL\n",
    "    atac$start <- NULL\n",
    "    atac$end <- NULL\n",
    "    # head(atac, 2)\n",
    "    \n",
    "    cisTopicObject <- createcisTopicObject(atac, project.name='neurips_s1d1')\n",
    "    \n",
    "    cisTopicObject <- runCGSModels(cisTopicObject, topic=c(n_topics), # , 5:15, 20, 25), # topic=c(2, 5:15, 20, 25),\n",
    "                               seed=987, nCores=2, burnin = 120,\n",
    "                               iterations = 150, addModels=FALSE)\n",
    "    \n",
    "    cisTopicObject <- selectModel(cisTopicObject, type='maximum')\n",
    "\n",
    "    # cisTopicObject\n",
    "    cisTopicObject <- runUmap(cisTopicObject, target='cell')\n",
    "\n",
    "    topic.mat <- modelMatSelection(cisTopicObject, 'cell', 'Probability')\n",
    "    topic.mat <- t(topic.mat)\n",
    "    topic.mat <- as.matrix(topic.mat)\n",
    "    saveRDS(topic.mat, cistopic_bkp_path)\n",
    "}\n"
   ]
  },
  {
   "cell_type": "code",
   "execution_count": null,
   "outputs": [],
   "source": [
    "print('done calculating CisTopic object')"
   ],
   "metadata": {
    "collapsed": false,
    "pycharm": {
     "name": "#%%\n",
     "is_executing": true
    }
   }
  },
  {
   "cell_type": "markdown",
   "id": "27287ed3-dc1e-4d50-a1d9-0dab1f48df16",
   "metadata": {
    "tags": [],
    "pycharm": {
     "name": "#%% md\n"
    }
   },
   "source": [
    "Once the CisTopic object is generated, we can use it to extract relevant features"
   ]
  },
  {
   "cell_type": "code",
   "execution_count": 32,
   "id": "102937b4-7efa-4340-b080-e2b7233ec04d",
   "metadata": {
    "pycharm": {
     "name": "#%%\n"
    }
   },
   "outputs": [
    {
     "data": {
      "text/html": "<style>\n.list-inline {list-style: none; margin:0; padding: 0}\n.list-inline>li {display: inline-block}\n.list-inline>li:not(:last-child)::after {content: \"\\00b7\"; padding: 0 .5ex}\n</style>\n<ol class=list-inline><li>6013</li><li>5</li></ol>\n",
      "text/markdown": "1. 6013\n2. 5\n\n\n",
      "text/latex": "\\begin{enumerate*}\n\\item 6013\n\\item 5\n\\end{enumerate*}\n",
      "text/plain": "[1] 6013    5"
     },
     "metadata": {},
     "output_type": "display_data"
    }
   ],
   "source": [
    "cisAssign <- readRDS(cistopic_bkp_path)\n",
    "dim(cisAssign) # Cells x Topics\n",
    "\n",
    "# all(cellsToKeep %in% rownames(cisAssign))\n",
    "# # Subset\n",
    "# cisAssign <- cisAssign[cellsToKeep,]"
   ]
  },
  {
   "cell_type": "markdown",
   "id": "0fa7fdd5-35ac-45af-96f9-22774b7ac0e7",
   "metadata": {
    "pycharm": {
     "name": "#%% md\n"
    }
   },
   "source": [
    "Calculate a kNN-graph using the topics matrix from cisTopic"
   ]
  },
  {
   "cell_type": "code",
   "execution_count": 33,
   "id": "f71b32a7-5dc8-4236-8ced-4dd569cf4e02",
   "metadata": {
    "pycharm": {
     "name": "#%%\n"
    }
   },
   "outputs": [],
   "source": [
    "library(dplyr)\n",
    "library(FNN)"
   ]
  },
  {
   "cell_type": "code",
   "execution_count": 34,
   "id": "d48ed8b4-116c-4527-bed7-6600360baec5",
   "metadata": {
    "pycharm": {
     "name": "#%%\n"
    }
   },
   "outputs": [
    {
     "data": {
      "text/html": "<style>\n.list-inline {list-style: none; margin:0; padding: 0}\n.list-inline>li {display: inline-block}\n.list-inline>li:not(:last-child)::after {content: \"\\00b7\"; padding: 0 .5ex}\n</style>\n<ol class=list-inline><li>6013</li><li>30</li></ol>\n",
      "text/markdown": "1. 6013\n2. 30\n\n\n",
      "text/latex": "\\begin{enumerate*}\n\\item 6013\n\\item 30\n\\end{enumerate*}\n",
      "text/plain": "[1] 6013   30"
     },
     "metadata": {},
     "output_type": "display_data"
    }
   ],
   "source": [
    "set.seed(123)\n",
    "cellkNN <- get.knn(cisAssign, k = 30)$nn.index\n",
    "dim(cellkNN)\n",
    "# rownames(cellkNN) <- cellsToKeep"
   ]
  },
  {
   "cell_type": "markdown",
   "id": "13a686a3-7d43-4d85-8d52-fed6d8305597",
   "metadata": {
    "pycharm": {
     "name": "#%% md\n"
    }
   },
   "source": [
    "Visualize cells using traditional UMAP"
   ]
  },
  {
   "cell_type": "code",
   "execution_count": 35,
   "id": "c3b4cc9f-5235-47a9-b706-7ae0f72fca90",
   "metadata": {
    "pycharm": {
     "name": "#%%\n"
    }
   },
   "outputs": [],
   "source": [
    "# for a custom color scheme\n",
    "# annoCols <- readRDS(\"./shareseq/shareseq_skin_annoCols.rds\")\n",
    "# annoCols"
   ]
  },
  {
   "cell_type": "code",
   "execution_count": 37,
   "id": "1153bf9d-a79a-46ff-8723-8883c19b2901",
   "metadata": {
    "pycharm": {
     "name": "#%%\n"
    }
   },
   "outputs": [
    {
     "ename": "ERROR",
     "evalue": "Error in h(simpleError(msg, call)): error in evaluating the argument 'x' in selecting a method for function 'colData': object 'ATAC.se' not found\n",
     "output_type": "error",
     "traceback": [
      "Error in h(simpleError(msg, call)): error in evaluating the argument 'x' in selecting a method for function 'colData': object 'ATAC.se' not found\nTraceback:\n",
      "1. colData(ATAC.se)",
      "2. .handleSimpleError(function (cond) \n . .Internal(C_tryCatchHelper(addr, 1L, cond)), \"object 'ATAC.se' not found\", \n .     base::quote(colData(ATAC.se)))",
      "3. h(simpleError(msg, call))"
     ]
    }
   ],
   "source": [
    "colData(ATAC.se)$cellAnnot <- colData(ATAC.se)$cell_type"
   ]
  },
  {
   "cell_type": "code",
   "execution_count": null,
   "id": "35faa75e-ba56-4255-9a9a-db76b09f1367",
   "metadata": {
    "pycharm": {
     "name": "#%%\n"
    }
   },
   "outputs": [],
   "source": [
    "# Plot\n",
    "library(ggplot2)\n",
    "colData(ATAC.se) %>% as.data.frame() %>% ggplot(aes(UMAP1,UMAP2,color=cellAnnot)) + \n",
    "  geom_point(size=0.5) + # scale_color_manual(values=annoCols)+\n",
    "  theme_classic() + guides(colour = guide_legend(override.aes = list(size=2)))"
   ]
  },
  {
   "cell_type": "markdown",
   "id": "6b0c5b77-e9f1-4525-a9ac-79ddbcf101eb",
   "metadata": {
    "pycharm": {
     "name": "#%% md\n"
    }
   },
   "source": [
    "The main FigR algorithm is executed here."
   ]
  },
  {
   "cell_type": "code",
   "execution_count": 114,
   "id": "297d38d8-8f19-405a-b2cc-2cf82765750d",
   "metadata": {
    "pycharm": {
     "name": "#%%\n"
    }
   },
   "outputs": [],
   "source": [
    "library(BSgenome.Hsapiens.UCSC.hg38)"
   ]
  },
  {
   "cell_type": "code",
   "execution_count": 115,
   "outputs": [
    {
     "data": {
      "text/html": [
       "<style>\n",
       ".list-inline {list-style: none; margin:0; padding: 0}\n",
       ".list-inline>li {display: inline-block}\n",
       ".list-inline>li:not(:last-child)::after {content: \"\\00b7\"; padding: 0 .5ex}\n",
       "</style>\n",
       "<ol class=list-inline><li>10</li><li>6224</li></ol>\n"
      ],
      "text/latex": [
       "\\begin{enumerate*}\n",
       "\\item 10\n",
       "\\item 6224\n",
       "\\end{enumerate*}\n"
      ],
      "text/markdown": [
       "1. 10\n",
       "2. 6224\n",
       "\n",
       "\n"
      ],
      "text/plain": [
       "[1]   10 6224"
      ]
     },
     "metadata": {},
     "output_type": "display_data"
    }
   ],
   "source": [
    "# check object dimensions\n",
    "c(dim(ATAC.se), dim(RNAmat))"
   ],
   "metadata": {
    "collapsed": false,
    "pycharm": {
     "name": "#%%\n"
    }
   }
  },
  {
   "cell_type": "markdown",
   "source": [
    "The following step cannot be run interactively, and it requires to be executed in a terminal using R"
   ],
   "metadata": {
    "collapsed": false,
    "pycharm": {
     "name": "#%% md\n"
    }
   }
  },
  {
   "cell_type": "code",
   "execution_count": 50,
   "id": "74d3de4d-e26b-4489-bb4d-7c803a7947c7",
   "metadata": {
    "pycharm": {
     "name": "#%%\n"
    }
   },
   "outputs": [
    {
     "ename": "ERROR",
     "evalue": "Error in stopifnot(inherits(ATAC.se, \"RangedSummarizedExperiment\")): object 'ATAC.se' not found\n",
     "output_type": "error",
     "traceback": [
      "Error in stopifnot(inherits(ATAC.se, \"RangedSummarizedExperiment\")): object 'ATAC.se' not found\nTraceback:\n",
      "1. FigR::runGenePeakcorr(ATAC.se = ATAC.se, RNAmat = RNAmat, genome = \"hg38\", \n .     nCores = 2, p.cut = NULL, n_bg = 100)   # at line 4-9 of file <text>",
      "2. stopifnot(inherits(ATAC.se, \"RangedSummarizedExperiment\"))"
     ]
    }
   ],
   "source": [
    "# Don't run interactively\n",
    "bkp_path_ciscorr <- '../../data/openproblems_bmmc_multiome_genes_filtered_s1d1_ciscorr.rds'\n",
    "if(!file.exists(bkp_path_ciscorr)){\n",
    "    cisCorr <- FigR::runGenePeakcorr(ATAC.se = ATAC.se,\n",
    "                               RNAmat = RNAmat,\n",
    "                               genome = \"hg38\", # One of hg19, mm10 or hg38\n",
    "                               nCores = 2,\n",
    "                               p.cut = NULL, # Set this to NULL and we can filter later\n",
    "                               n_bg = 100)\n",
    "    saveRDS(cisCorr, bkp_path_ciscorr)\n",
    "}\n",
    "cisCorr <- readRDS(bkp_path_ciscorr)"
   ]
  },
  {
   "cell_type": "markdown",
   "source": [
    "Filter relevant peak-gene correlations by p-value"
   ],
   "metadata": {
    "collapsed": false,
    "pycharm": {
     "name": "#%% md\n"
    }
   }
  },
  {
   "cell_type": "code",
   "execution_count": 49,
   "id": "2725016c-54cf-4bc7-b877-800319713856",
   "metadata": {
    "pycharm": {
     "name": "#%%\n"
    }
   },
   "outputs": [
    {
     "ename": "ERROR",
     "evalue": "Error in filter(., pvalZ <= 0.05): object 'cisCorr' not found\n",
     "output_type": "error",
     "traceback": [
      "Error in filter(., pvalZ <= 0.05): object 'cisCorr' not found\nTraceback:\n",
      "1. cisCorr %>% filter(pvalZ <= 0.05)",
      "2. filter(., pvalZ <= 0.05)"
     ]
    }
   ],
   "source": [
    "cisCorr.filt <- cisCorr %>% filter(pvalZ <= 0.05)\n",
    "# Determine DORC genes\n",
    "dorcGenes <- cisCorr.filt %>% dorcJPlot(cutoff=7, # Default\n",
    "                                       returnGeneList = TRUE)"
   ]
  },
  {
   "cell_type": "markdown",
   "source": [
    "Get DORC scores"
   ],
   "metadata": {
    "collapsed": false,
    "pycharm": {
     "name": "#%% md\n"
    }
   }
  },
  {
   "cell_type": "code",
   "execution_count": 48,
   "outputs": [
    {
     "ename": "ERROR",
     "evalue": "Error in is.data.frame(x): object 'cisCorr.filt' not found\n",
     "output_type": "error",
     "traceback": [
      "Error in is.data.frame(x): object 'cisCorr.filt' not found\nTraceback:\n",
      "1. getDORCScores(ATAC.se, dorcTab = cisCorr.filt, geneList = dorcGenes, \n .     nCores = 4)",
      "2. c(\"Peak\", \"Gene\") %in% colnames(dorcTab)",
      "3. colnames(dorcTab)",
      "4. is.data.frame(x)"
     ]
    }
   ],
   "source": [
    "dorcMat <- getDORCScores(ATAC.se,dorcTab=cisCorr.filt, geneList=dorcGenes, nCores=4)\n",
    "# Smooth DORC scores (using cell KNNs)\n",
    "dorcMat.smooth <- smoothScoresNN(NNmat=cellKNN.mat, mat=dorcMat, nCores=4)"
   ],
   "metadata": {
    "collapsed": false,
    "pycharm": {
     "name": "#%%\n"
    }
   }
  },
  {
   "cell_type": "markdown",
   "source": [
    "To execute the smoothScores NN function with multiple cores, doParallel is required."
   ],
   "metadata": {
    "collapsed": false,
    "pycharm": {
     "name": "#%% md\n"
    }
   }
  },
  {
   "cell_type": "code",
   "execution_count": 26,
   "id": "ed4e1d8d-0776-4103-ad7a-15d914a8907a",
   "metadata": {
    "pycharm": {
     "name": "#%%\n"
    }
   },
   "outputs": [
    {
     "name": "stderr",
     "output_type": "stream",
     "text": [
      "Loading required package: foreach\n",
      "\n",
      "Loading required package: iterators\n",
      "\n",
      "Loading required package: parallel\n",
      "\n"
     ]
    }
   ],
   "source": [
    "library(doParallel)"
   ]
  },
  {
   "cell_type": "code",
   "execution_count": 47,
   "id": "caa6cd27-016a-4db4-b545-bbbf85de5be7",
   "metadata": {
    "pycharm": {
     "name": "#%%\n"
    }
   },
   "outputs": [
    {
     "ename": "ERROR",
     "evalue": "Error in ncol(mat): object 'dorcMat' not found\n",
     "output_type": "error",
     "traceback": [
      "Error in ncol(mat): object 'dorcMat' not found\nTraceback:\n",
      "1. smoothScoresNN(NNmat = cellkNN[, 1:30], mat = dorcMat, nCores = 4)",
      "2. stopifnot(all.equal(nrow(NNmat), ncol(mat)))",
      "3. all.equal(nrow(NNmat), ncol(mat))",
      "4. all.equal.numeric(nrow(NNmat), ncol(mat))",
      "5. attr.all.equal(target, current, tolerance = tolerance, scale = scale, \n .     ...)",
      "6. mode(current)",
      "7. ncol(mat)"
     ]
    }
   ],
   "source": [
    "# Smooth dorc scores using cell KNNs (k=30)\n",
    "dorcMat.s <- smoothScoresNN(NNmat = cellkNN[,1:30], mat = dorcMat, nCores = 4)\n",
    "\n",
    "# Smooth RNA using cell KNNs\n",
    "# This takes longer since it's all genes\n",
    "RNAmat.s <- smoothScoresNN(NNmat = cellkNN[,1:30], mat = RNAmat, nCores = 4)"
   ]
  },
  {
   "cell_type": "code",
   "execution_count": 46,
   "id": "c824accd-ee01-4059-8c74-624c40c52644",
   "metadata": {
    "pycharm": {
     "name": "#%%\n"
    }
   },
   "outputs": [],
   "source": [
    "library(ggplot2)\n",
    "library(ggrastr)"
   ]
  },
  {
   "cell_type": "code",
   "execution_count": 45,
   "id": "7f24e6e9-bc2c-4966-b3ad-de50b315ed6c",
   "metadata": {
    "pycharm": {
     "name": "#%%\n"
    }
   },
   "outputs": [
    {
     "ename": "ERROR",
     "evalue": "Error in h(simpleError(msg, call)): error in evaluating the argument 'x' in selecting a method for function 'as.data.frame': error in evaluating the argument 'x' in selecting a method for function 'colData': object 'ATAC.se' not found\n",
     "output_type": "error",
     "traceback": [
      "Error in h(simpleError(msg, call)): error in evaluating the argument 'x' in selecting a method for function 'as.data.frame': error in evaluating the argument 'x' in selecting a method for function 'colData': object 'ATAC.se' not found\nTraceback:\n",
      "1. as.data.frame(colData(ATAC.se)[, c(\"UMAP1\", \"UMAP2\")])",
      "2. colData(ATAC.se)",
      "3. .handleSimpleError(function (cond) \n . .Internal(C_tryCatchHelper(addr, 1L, cond)), \"object 'ATAC.se' not found\", \n .     base::quote(colData(ATAC.se)))",
      "4. h(simpleError(msg, call))",
      "5. .handleSimpleError(function (cond) \n . .Internal(C_tryCatchHelper(addr, 1L, cond)), \"error in evaluating the argument 'x' in selecting a method for function 'colData': object 'ATAC.se' not found\", \n .     base::quote(h(simpleError(msg, call))))",
      "6. h(simpleError(msg, call))"
     ]
    }
   ],
   "source": [
    "# Visualize on pre-computed UMAP\n",
    "umap.d <- as.data.frame(colData(ATAC.se)[,c(\"UMAP1\",\"UMAP2\")])"
   ]
  },
  {
   "cell_type": "markdown",
   "source": [
    "DORC score for a marker gene (TBX21)"
   ],
   "metadata": {
    "collapsed": false,
    "pycharm": {
     "name": "#%% md\n"
    }
   }
  },
  {
   "cell_type": "code",
   "execution_count": 44,
   "outputs": [
    {
     "ename": "ERROR",
     "evalue": "Error in stopifnot(class(df) == \"data.frame\"): object 'umap.d' not found\n",
     "output_type": "error",
     "traceback": [
      "Error in stopifnot(class(df) == \"data.frame\"): object 'umap.d' not found\nTraceback:\n",
      "1. plotMarker2D(umap.d, dorcMat.s, markers = c(marker_gene), maxCutoff = \"q0.99\", \n .     colorPalette = \"brewer_heat\")",
      "2. stopifnot(class(df) == \"data.frame\")"
     ]
    }
   ],
   "source": [
    "\n",
    "marker_gene = 'TBX1'\n",
    "dorcg <- plotMarker2D(umap.d,dorcMat.s,markers = c(marker_gene),maxCutoff = \"q0.99\",\n",
    "                      colorPalette = \"brewer_heat\") + ggtitle(paste0(marker_gene, ' DORC'))\n"
   ],
   "metadata": {
    "collapsed": false,
    "pycharm": {
     "name": "#%%\n"
    }
   }
  },
  {
   "cell_type": "markdown",
   "source": [
    "RNA for Dlx3"
   ],
   "metadata": {
    "collapsed": false,
    "pycharm": {
     "name": "#%% md\n"
    }
   }
  },
  {
   "cell_type": "code",
   "execution_count": 25,
   "id": "e7f627c4-0bc9-4b2f-8021-600bebbb5a82",
   "metadata": {
    "pycharm": {
     "name": "#%%\n"
    }
   },
   "outputs": [
    {
     "name": "stdout",
     "output_type": "stream",
     "text": [
      "Plotting  Dlx3 \n"
     ]
    }
   ],
   "source": [
    "rnag <- plotMarker2D(umap.d,RNAmat.s,markers = c(marker_gene),maxCutoff = \"q0.99\",\n",
    "                     colorPalette = \"brewer_purple\") + ggtitle(paste0(marker_gene, ' RNA'))"
   ]
  },
  {
   "cell_type": "markdown",
   "source": [
    "Using patchwork, we can merge the dorcg and rnag objects, and visualize those interatively"
   ],
   "metadata": {
    "collapsed": false,
    "pycharm": {
     "name": "#%% md\n"
    }
   }
  },
  {
   "cell_type": "code",
   "execution_count": 43,
   "id": "9ec4fe57-8716-40ce-b972-de96ac217759",
   "metadata": {
    "pycharm": {
     "name": "#%%\n"
    }
   },
   "outputs": [
    {
     "name": "stderr",
     "output_type": "stream",
     "text": [
      "\n",
      "Attaching package: ‘patchwork’\n",
      "\n",
      "\n",
      "The following object is masked from ‘package:cowplot’:\n",
      "\n",
      "    align_plots\n",
      "\n",
      "\n"
     ]
    },
    {
     "ename": "ERROR",
     "evalue": "Error in eval(expr, envir, enclos): object 'dorcg' not found\n",
     "output_type": "error",
     "traceback": [
      "Error in eval(expr, envir, enclos): object 'dorcg' not found\nTraceback:\n"
     ]
    }
   ],
   "source": [
    "library(patchwork)\n",
    "dorcg + rnag"
   ]
  },
  {
   "cell_type": "code",
   "execution_count": null,
   "id": "d8501c42-59cb-4b22-a964-55e58d979272",
   "metadata": {
    "pycharm": {
     "name": "#%%\n"
    }
   },
   "outputs": [],
   "source": [
    "figR.d <- runFigRGRN(ATAC.se = ATAC.se, # Must be the same input as used in runGenePeakcorr()\n",
    "                     dorcTab = cisCorr.filt, # Filtered peak-gene associations\n",
    "                     genome = \"mm10\",\n",
    "                     dorcMat = dorcMat.s,\n",
    "                     rnaMat = RNAmat.s, \n",
    "                     nCores = 2)"
   ]
  },
  {
   "cell_type": "markdown",
   "id": "2a6b7cf0-4aa4-4d2e-b360-badb0bac7eec",
   "metadata": {
    "pycharm": {
     "name": "#%% md\n"
    }
   },
   "source": [
    "## Results visualization"
   ]
  },
  {
   "cell_type": "markdown",
   "source": [
    "TF-DORC regulation scores (scatter plot)"
   ],
   "metadata": {
    "collapsed": false,
    "pycharm": {
     "name": "#%% md\n"
    }
   }
  },
  {
   "cell_type": "code",
   "execution_count": null,
   "id": "81da5937-9014-44ab-8169-dd3688624420",
   "metadata": {
    "pycharm": {
     "name": "#%%\n"
    }
   },
   "outputs": [],
   "source": [
    "require(ggplot2)\n",
    "require(ggrastr)\n",
    "require(BuenColors) # https://github.com/caleblareau/BuenColors\n",
    "\n",
    "figR.d %>% \n",
    "  ggplot(aes(Corr.log10P,Enrichment.log10P,color=Score)) + \n",
    "  ggrastr::geom_point_rast(size=0.01,shape=16) + \n",
    "  theme_classic() + \n",
    "  scale_color_gradientn(colours = jdb_palette(\"solar_extra\"),limits=c(-3,3),oob = scales::squish,breaks=scales::breaks_pretty(n=3))"
   ]
  },
  {
   "cell_type": "markdown",
   "source": [
    "Rank based visualization of drive TFs"
   ],
   "metadata": {
    "collapsed": false,
    "pycharm": {
     "name": "#%% md\n"
    }
   }
  },
  {
   "cell_type": "code",
   "execution_count": null,
   "outputs": [],
   "source": [
    "rankDrivers(figR.d,score.cut = 2,rankBy = \"nTargets\",interactive = TRUE)\n"
   ],
   "metadata": {
    "collapsed": false,
    "pycharm": {
     "name": "#%%\n"
    }
   }
  },
  {
   "cell_type": "markdown",
   "source": [
    "Heatmap-based visualization of FigR scores"
   ],
   "metadata": {
    "collapsed": false,
    "pycharm": {
     "name": "#%% md\n"
    }
   }
  },
  {
   "cell_type": "code",
   "execution_count": null,
   "id": "a00c0884-92aa-4fa1-b98e-06bab43d5eb9",
   "metadata": {
    "pycharm": {
     "name": "#%%\n"
    }
   },
   "outputs": [],
   "source": [
    "library(ComplexHeatmap)\n",
    "plotfigRHeatmap(figR.d = figR.d,\n",
    "                score.cut = 2,\n",
    "                column_names_gp = gpar(fontsize=6), # from ComplexHeatmap\n",
    "                show_row_dend = FALSE # from ComplexHeatmap\n",
    "                )"
   ]
  },
  {
   "cell_type": "markdown",
   "source": [
    "Heatmap-based visualization of FigR scores"
   ],
   "metadata": {
    "collapsed": false,
    "pycharm": {
     "name": "#%% md\n"
    }
   }
  },
  {
   "cell_type": "code",
   "execution_count": null,
   "id": "a04a2c9e-9e06-482c-9a57-f9301f1eb6c8",
   "metadata": {
    "pycharm": {
     "name": "#%%\n"
    }
   },
   "outputs": [],
   "source": [
    "library(ComplexHeatmap)\n",
    "plotfigRHeatmap(figR.d = figR.d,\n",
    "                score.cut = 2,\n",
    "                column_names_gp = gpar(fontsize=6), # from ComplexHeatmap\n",
    "                show_row_dend = FALSE # from ComplexHeatmap\n",
    "                )"
   ]
  },
  {
   "cell_type": "markdown",
   "source": [
    "Heatmap-based visualization of DORC-scores for candidates genes"
   ],
   "metadata": {
    "collapsed": false,
    "pycharm": {
     "name": "#%% md\n"
    }
   }
  },
  {
   "cell_type": "code",
   "execution_count": null,
   "id": "91f84fb9-7b3f-499b-8bfc-9bbd71b2f51f",
   "metadata": {
    "pycharm": {
     "name": "#%%\n"
    }
   },
   "outputs": [],
   "source": [
    "library(ComplexHeatmap)\n",
    "plotfigRHeatmap(figR.d = figR.d,\n",
    "                score.cut = 1,\n",
    "                TFs = c(\"Lef1\",\"Dlx3\",\"Grhl1\",\"Gata6\",\"Klf3\",\"Barx2\",\"Pou2f3\"),\n",
    "                column_names_gp = gpar(fontsize=6), # from ComplexHeatmap\n",
    "                show_row_dend = FALSE # from ComplexHeatmap\n",
    "                )"
   ]
  },
  {
   "cell_type": "markdown",
   "source": [
    "Network-based visualization of generated results (using package networkD3)"
   ],
   "metadata": {
    "collapsed": false,
    "pycharm": {
     "name": "#%% md\n"
    }
   }
  },
  {
   "cell_type": "code",
   "execution_count": 41,
   "id": "0d7780a0-6f8a-4d96-8265-fb244724d9f6",
   "metadata": {
    "pycharm": {
     "name": "#%%\n"
    }
   },
   "outputs": [],
   "source": [
    "library(networkD3)"
   ]
  },
  {
   "cell_type": "code",
   "execution_count": null,
   "id": "69162b4c-40ae-4d75-8b75-43121a84ca12",
   "metadata": {
    "pycharm": {
     "name": "#%%\n"
    }
   },
   "outputs": [],
   "source": [
    "plotfigRNetwork(figR.d,\n",
    "                score.cut = 2,\n",
    "                TFs = c(\"Lef1\",\"Dlx3\",\"Grhl1\",\"Gata6\",\"Klf3\",\"Barx2\",\"Pou2f3\"),\n",
    "                weight.edges = TRUE)"
   ]
  },
  {
   "cell_type": "markdown",
   "id": "9d9347ab",
   "metadata": {
    "id": "9d9347ab",
    "pycharm": {
     "name": "#%% md\n"
    }
   },
   "source": [
    "## Takeaways\n",
    "\n",
    "In this notebook, we have:\n",
    "\n",
    "1. Prepare an RNA and ATAC object using R, for processing with FigR and CisTopic.\n",
    "2. Calculated DORC scores with FigR, and visualize those as scatter, heatmap and networks."
   ]
  },
  {
   "cell_type": "markdown",
   "id": "0968692b",
   "metadata": {
    "id": "0968692b",
    "pycharm": {
     "name": "#%% md\n"
    }
   },
   "source": [
    "## Quiz\n",
    "\n",
    "### Theory\n",
    "\n",
    "1. Why are peak-to-gene associations considered mechanistically valid?\n",
    "2. What are there more peaks than genes, and as consequence, multiple peaks targeting a single gene, when building GRNs?\n",
    "3. What is considered a TF activator/repressor as the level of peak, and at the level of gene groups.\n",
    "4. What additional readouts are complementary to scRNA-seq and scATAC-seq, when interpreting ATAC+RNA GRN models.\n",
    "\n",
    "### FigR\n",
    "\n",
    "1. What is the DORC score and how it could be useful to identify regulatory interactions between peaks and genes?"
   ]
  },
  {
   "cell_type": "markdown",
   "id": "f46193e4",
   "metadata": {
    "pycharm": {
     "name": "#%% md\n"
    }
   },
   "source": [
    "## References"
   ]
  },
  {
   "cell_type": "markdown",
   "source": [
    "## Contributors\n",
    "We gratefully acknowledge the contributions of:\n",
    "### Authorms\n",
    "* Ignacio Ibarra\n",
    "### Reviewers\n",
    "* Lukas Heumos"
   ],
   "metadata": {
    "collapsed": false,
    "pycharm": {
     "name": "#%% md\n"
    }
   }
  }
 ],
 "metadata": {
  "colab": {
   "collapsed_sections": [
    "3c1bce8a",
    "99edd535",
    "0968692b"
   ],
   "name": "280422_de.ipynb",
   "provenance": []
  },
  "kernelspec": {
   "display_name": "R",
   "language": "R",
   "name": "ir"
  },
  "language_info": {
   "codemirror_mode": "r",
   "file_extension": ".r",
   "mimetype": "text/x-r-source",
   "name": "R",
   "pygments_lexer": "r",
   "version": "4.1.3"
  }
 },
 "nbformat": 4,
 "nbformat_minor": 5
}