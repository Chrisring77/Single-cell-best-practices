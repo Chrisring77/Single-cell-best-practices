{
 "cells": [
  {
   "cell_type": "markdown",
   "id": "417b359b",
   "metadata": {
    "id": "417b359b",
    "pycharm": {
     "name": "#%% md\n"
    }
   },
   "source": [
    "# Generation of mechanistic hypotheses from single-cell genomics data"
   ]
  },
  {
   "cell_type": "markdown",
   "id": "2706dc1c",
   "metadata": {
    "id": "2706dc1c",
    "pycharm": {
     "name": "#%% md\n"
    }
   },
   "source": [
    "## Gene regulatory network inference using RNA features\n",
    "\n",
    "Once single-cell genomics data has been processed, one can dissect important relationships between observed features in their genome context. In our genome, the activation of genes is controlled in the nucleus by the RNA transcriptional machinery, which activates local (promoters) or distal cis-regulatory elements (enhancers), to control the amount of RNA produced by every gene.\n",
    "\n",
    "Conceptually, a Gene Regulatory Network (GRN) refers to a best-educated graph representation of how certain genes that control transcription i.e. \"**Transcription Factors**\" (TF) are in charge of directly controlling the transcription rates of their target genes (cis-regulation). At the same time, such target genes once activated, can be in charge of controlling other downstream target genes (trans-regulation). Computationally, methods that infer GRNs consider the co-variation of RNA and ATAC features to identify modules that could be grouped and associated simultaneously with a few TFs. A group of genes controlled by the activity of the same are defined as as **regulon**.\n",
    "\n",
    "In addition to co-variation, several methods have recognized the gathering and injection of prior knowledge data, such as the locations where a TF bind in the genome, or previously reported TF-target gene associations, to pre-define gene-gene edges that guide the inference of GRNs that are most-supported by that type of evidence. To date, benchmarking of GRNs differs from other Machine Learning tasks such as image inference, in such a way that labeled data is sparse and hard to validate. For this reason, several methods have developed their own benchmark that compares new methods against others, using majorly real data. The generalization of GRN inference methods is an active discussion topic in regulatory genomics, and differently from previous chapters, requires a gold standard that is at the moment difficult to agree on and be reused consistently by the community.\n",
    "\n",
    "The purpose of this chapter is to showcase the general pipeline of how a GRN can be generated, using methods that have been to our knowledge presented in a way that allows a validation with a low amount of software dependencies. Due to the benchmarking limitations of GRN tools in general, we recommend these tools but we cannot say that they will perform best in all possible scenarios. We would rather recommend those as a starting point, given available data, to then explore their generated GRN representations with the lowest computational effort.\n",
    "\n",
    "#### Gathering TF regulons from public data\n",
    "\n",
    "TF- Regulons have been annotated in academic studies, databases that compiled those, and also consortia efforts such as ENCODE. As general recommendations, one can inspect [TTRUST](https://www.grnpedia.org/trrust/), [DoRothEA](https://saezlab.github.io/dorothea/), [KnockTF](http://www.licpathway.net/KnockTFv2/index.php), among others, for eukaryotic TF-regulons. For prokaryotes [RegulonDB](https://regulondb.ccg.unam.mx/) is a well maintained database.\n",
    "\n",
    "#### **Limtations of TF regulons**\n",
    "\n",
    "The source and confidence of a TF-regulon has some limitations, such as data source and experimental readout. If the data source for a regulon is not matched to the cell type of interest, then results can not be put into the context of the particular biological system. Alternatively, if the experimental readout is not measuring *cis* regulation events, directly provoked by the TF of interest, our TF-regulon might contain *trans* regulation events. The usage of a TF regulon gather in an equivalent biological system is strongly recommended. However, if those are not available the interpretation of results might be biased due to forcing of priors.\n",
    "\n",
    "## **This chapter: Generation of GRNs using RNA data**\n",
    "\n",
    "We will explore scRNA-seq data and predicted TF-regulons, using the tool SCENIC. Specifically, we will execute SCENIC on a donor of the NeurIPS 2021 dataset, and we will interpret the results.\n",
    "\n",
    "### **Outocome of the analysis. What things can be done with these outputs.**\n",
    "\n",
    "Interpreting single cell RNA-seq data through a gene regulatory network, to get potential Transcription Factor and target gene that drive the gene expression and control of cell states during perturbations and/or cell transitions."
   ]
  },
  {
   "cell_type": "markdown",
   "id": "abca2aa3",
   "metadata": {
    "id": "abca2aa3",
    "pycharm": {
     "name": "#%% md\n"
    }
   },
   "source": [
    "## Dataset description\n",
    " Cell-type clusters of 100,000 human PBMCs and the NeurIPS dataset, which contain healthy donors as well as COVID-19 patients{cite}`Schulte-chrepping2020`."
   ]
  },
  {
   "cell_type": "markdown",
   "source": [
    "### Installation of SCENIC\n",
    "\n",
    "The package SCENIC requires a variety of tool that are used for the annotation of TF-regulons and the calculation of strong edges between TFs and target genes (see regulons_only_rna.yml for installation requirements)"
   ],
   "metadata": {
    "collapsed": false,
    "pycharm": {
     "name": "#%% md\n"
    }
   }
  },
  {
   "cell_type": "markdown",
   "source": [
    "## Environment setup"
   ],
   "metadata": {
    "collapsed": false,
    "pycharm": {
     "name": "#%% md\n"
    }
   }
  },
  {
   "cell_type": "code",
   "execution_count": null,
   "outputs": [],
   "source": [
    "(\n",
    "    cd / mnt / c / Users / ignacio.ibarra / Dropbox / workspace / theislab / extended\n",
    "    - single\n",
    "    - cell\n",
    "    - best\n",
    "    - practices / jupyter\n",
    "    - book / mechanisms\n",
    ")"
   ],
   "metadata": {
    "collapsed": false,
    "pycharm": {
     "name": "#%%\n"
    }
   }
  },
  {
   "cell_type": "code",
   "execution_count": null,
   "outputs": [],
   "source": [
    "import warnings\n",
    "\n",
    "# here verify all the relevant import that will be required.\n",
    "warnings.filterwarnings(\"ignore\")\n",
    "import pyscenic\n",
    "import loompy as lp\n",
    "import scanpy as sc\n",
    "import numpy as np\n",
    "import seaborn as sns\n",
    "import pandas as pd\n",
    "import matplotlib.pyplot as plt\n",
    "import os"
   ],
   "metadata": {
    "collapsed": false,
    "pycharm": {
     "name": "#%%\n"
    }
   }
  },
  {
   "cell_type": "markdown",
   "source": [
    "## Preparation of the NeurIPs dataset"
   ],
   "metadata": {
    "collapsed": false,
    "pycharm": {
     "name": "#%% md\n"
    }
   }
  },
  {
   "cell_type": "markdown",
   "source": [
    "The current dataset we will be looking here is already pre-processed (previous chapters), and it contains 69,249 cells, annotated into 22 cell types.\n",
    "Due to batch integration considerations, we will demonstrate the usage of GRN methods for only one, labeled as **s1d1** (n=6,224 cells)."
   ],
   "metadata": {
    "collapsed": false,
    "pycharm": {
     "name": "#%% md\n"
    }
   }
  },
  {
   "cell_type": "markdown",
   "source": [
    "Load the full dataset"
   ],
   "metadata": {
    "collapsed": false,
    "pycharm": {
     "name": "#%% md\n"
    }
   }
  },
  {
   "cell_type": "code",
   "execution_count": null,
   "outputs": [],
   "source": [
    "adata = sc.read_h5ad(\"../../data/openproblems_bmmc_multiome_genes_filtered.h5ad\")\n",
    "adata.shape"
   ],
   "metadata": {
    "collapsed": false,
    "pycharm": {
     "name": "#%%\n"
    }
   }
  },
  {
   "cell_type": "markdown",
   "source": [
    "As this notebook focuses on RNA features, here we subselect RNA-only features, using the label **GEX** (i.e. gene expression)."
   ],
   "metadata": {
    "collapsed": false,
    "pycharm": {
     "name": "#%% md\n"
    }
   }
  },
  {
   "cell_type": "code",
   "execution_count": null,
   "outputs": [],
   "source": [
    "rna = adata[:, adata.var.feature_types == \"GEX\"]\n",
    "sc.pp.log1p(rna)\n",
    "rna.obs.batch.value_counts()"
   ],
   "metadata": {
    "collapsed": false,
    "pycharm": {
     "name": "#%%\n"
    }
   }
  },
  {
   "cell_type": "code",
   "execution_count": null,
   "outputs": [],
   "source": [
    "rna.shape"
   ],
   "metadata": {
    "collapsed": false,
    "pycharm": {
     "name": "#%%\n"
    }
   }
  },
  {
   "cell_type": "markdown",
   "source": [
    "Here we select highly-variable genes, to minimize the computing requirements for steps down-stream. An execution without defining HVGs is also possible, but will need additional computing memory and time."
   ],
   "metadata": {
    "collapsed": false,
    "pycharm": {
     "name": "#%% md\n"
    }
   }
  },
  {
   "cell_type": "code",
   "execution_count": null,
   "outputs": [],
   "source": [
    "sc.pp.highly_variable_genes(rna, batch_key=\"batch\", flavor=\"seurat\")"
   ],
   "metadata": {
    "collapsed": false,
    "pycharm": {
     "name": "#%%\n"
    }
   }
  },
  {
   "cell_type": "markdown",
   "source": [
    "This is the embedding of all gene expression data cells of all donors. One can see that donor is dominating over cell types, due to batch-correction methods not executed."
   ],
   "metadata": {
    "collapsed": false,
    "pycharm": {
     "name": "#%% md\n"
    }
   }
  },
  {
   "cell_type": "code",
   "execution_count": null,
   "outputs": [],
   "source": [
    "sc.pl.embedding(rna, \"GEX_X_umap\", color=[\"cell_type\", \"batch\"])"
   ],
   "metadata": {
    "collapsed": false,
    "pycharm": {
     "name": "#%%\n"
    }
   }
  },
  {
   "cell_type": "markdown",
   "source": [
    "Here we observe the cells of only donor s1d1. Cells cluster well based on their provided annotations"
   ],
   "metadata": {
    "collapsed": false,
    "pycharm": {
     "name": "#%% md\n"
    }
   }
  },
  {
   "cell_type": "code",
   "execution_count": null,
   "outputs": [],
   "source": [
    "adata_batch = rna[rna.obs.batch == \"s1d1\", :]\n",
    "print(\"custom donor (s1d1)\")\n",
    "sc.pl.embedding(adata_batch, \"GEX_X_umap\", color=[\"cell_type\", \"batch\"])"
   ],
   "metadata": {
    "collapsed": false,
    "pycharm": {
     "name": "#%%\n"
    }
   }
  },
  {
   "cell_type": "markdown",
   "source": [
    "## Preparation of SCENIC"
   ],
   "metadata": {
    "collapsed": false,
    "pycharm": {
     "name": "#%% md\n"
    }
   }
  },
  {
   "cell_type": "markdown",
   "source": [
    "Define the input for SCENIC using loompy"
   ],
   "metadata": {
    "collapsed": false,
    "pycharm": {
     "name": "#%% md\n"
    }
   }
  },
  {
   "cell_type": "code",
   "execution_count": null,
   "outputs": [],
   "source": [
    "## this file has to be downloaded if not found\n",
    "# !wget https://raw.githubusercontent.com/aertslab/SCENICprotocol/master/example/allTFs_hg38.txt\n",
    "tfs_path = \"allTFs_hg38.txt\""
   ],
   "metadata": {
    "collapsed": false,
    "pycharm": {
     "name": "#%%\n"
    }
   }
  },
  {
   "cell_type": "code",
   "execution_count": null,
   "outputs": [],
   "source": [
    "loom_path = \"data/neurips_processed_input.loom\"\n",
    "loom_path_output = \"data/neurips_processed_output.loom\"\n",
    "tfs = [tf.strip() for tf in open(tfs_path)]\n",
    "\n",
    "# check that the needed output file (before execution it should be False/False\n",
    "print(os.path.exists(loom_path), os.path.exists(loom_path_output))"
   ],
   "metadata": {
    "collapsed": false,
    "pycharm": {
     "name": "#%%\n"
    }
   }
  },
  {
   "cell_type": "markdown",
   "source": [
    "As a verification, it is recommended to check that genes annotated as TFs are part of the provided input data. If not a high coverage of gene symbols is observed e.g. 50% or more, there could be an issues with the feature names declared in the `.var`, such as Ensembl IDs instead of gene_symbols, or lower/uppercase difference if the genome assembly is mouse or another species that uses a different capitalization style than human."
   ],
   "metadata": {
    "collapsed": false,
    "pycharm": {
     "name": "#%% md\n"
    }
   }
  },
  {
   "cell_type": "code",
   "execution_count": null,
   "outputs": [],
   "source": [
    "# as a general QC. We inspect that our object has transcription factors listed in our main annotations.\n",
    "print(\n",
    "    np.sum(adata_batch.var.index.isin(tfs)),\n",
    "    \"out of\",\n",
    "    len(tfs),\n",
    "    \"TFs are found in the object\",\n",
    ")"
   ],
   "metadata": {
    "collapsed": false,
    "pycharm": {
     "name": "#%%\n"
    }
   }
  },
  {
   "cell_type": "markdown",
   "source": [
    "Usage of HVG or all features can be defined here, by changing the flag `use_hvg` to `False`."
   ],
   "metadata": {
    "collapsed": false,
    "pycharm": {
     "name": "#%% md\n"
    }
   }
  },
  {
   "cell_type": "code",
   "execution_count": null,
   "outputs": [],
   "source": [
    "use_hvg = True\n",
    "if use_hvg:\n",
    "    mask = (adata_batch.var[\"highly_variable\"] == True) | adata_batch.var.index.isin(\n",
    "        tfs\n",
    "    )\n",
    "    adata_batch = adata_batch[:, mask]"
   ],
   "metadata": {
    "collapsed": false,
    "pycharm": {
     "name": "#%%\n"
    }
   }
  },
  {
   "cell_type": "markdown",
   "source": [
    "Create a loom file for NeurIPS donor. If you get an error in this step, verify thath the labels for Gene/CellID/etc. are properly defined."
   ],
   "metadata": {
    "collapsed": false,
    "pycharm": {
     "name": "#%% md\n"
    }
   }
  },
  {
   "cell_type": "code",
   "execution_count": null,
   "outputs": [],
   "source": [
    "row_attributes = {\n",
    "    \"Gene\": np.array(adata_batch.var.index),\n",
    "}\n",
    "col_attributes = {\n",
    "    \"CellID\": np.array(adata_batch.obs.index),\n",
    "    \"nGene\": np.array(np.sum(adata_batch.X.transpose() > 0, axis=0)).flatten(),\n",
    "    \"nUMI\": np.array(np.sum(adata_batch.X.transpose(), axis=0)).flatten(),\n",
    "}\n",
    "\n",
    "lp.create(loom_path, adata_batch.X.transpose(), row_attributes, col_attributes)"
   ],
   "metadata": {
    "collapsed": false,
    "pycharm": {
     "name": "#%%\n"
    }
   }
  },
  {
   "cell_type": "markdown",
   "source": [
    "Once the loom file has been generated, we execute `pyscenic` to generate associations between TFs and genes. TF-gene associations are inferred by GRNBoost, and summarized by a directional weight between TFs and target genes. The output of this analysis is a table summarizing all reported associations with their importance weight."
   ],
   "metadata": {
    "collapsed": false,
    "pycharm": {
     "name": "#%% md\n"
    }
   }
  },
  {
   "cell_type": "code",
   "execution_count": null,
   "outputs": [],
   "source": [
    "outpath_adj = \"adj.csv\"\n",
    "if not os.path.exists(outpath_adj):\n",
    "    !pyscenic grn {loom_path} {tfs_path} -o $outpath_adj --num_workers 3"
   ],
   "metadata": {
    "collapsed": false,
    "pycharm": {
     "name": "#%%\n"
    }
   }
  },
  {
   "cell_type": "markdown",
   "source": [
    "Show the top of of TF-target associations"
   ],
   "metadata": {
    "collapsed": false,
    "pycharm": {
     "name": "#%% md\n"
    }
   }
  },
  {
   "cell_type": "code",
   "execution_count": null,
   "outputs": [],
   "source": [
    "results_adjacencies = pd.read_csv(\"adj.csv\", index_col=False, sep=\",\")\n",
    "print(\"# associations\", results_adjacencies.shape)\n",
    "results_adjacencies.head()"
   ],
   "metadata": {
    "collapsed": false,
    "pycharm": {
     "name": "#%%\n"
    }
   }
  },
  {
   "cell_type": "markdown",
   "source": [
    "Visualize the distribution of weights for general inspection of the quantiles and thresholds obtained from pyscenic"
   ],
   "metadata": {
    "collapsed": false,
    "pycharm": {
     "name": "#%% md\n"
    }
   }
  },
  {
   "cell_type": "code",
   "execution_count": null,
   "outputs": [],
   "source": [
    "plt.hist(np.log10(results_adjacencies[\"importance\"]), bins=50)\n",
    "plt.xlim([-10, 10])"
   ],
   "metadata": {
    "collapsed": false,
    "pycharm": {
     "name": "#%%\n"
    }
   }
  },
  {
   "cell_type": "markdown",
   "source": [
    "Targets genes have DNA motifs at promoters (sequence specific DNA motifs), those can be used to link TFs to target genes. Here we use an annotation of TFs as Transcription Start Sites (TSSs) to refine this annotation."
   ],
   "metadata": {
    "collapsed": false,
    "pycharm": {
     "name": "#%% md\n"
    }
   }
  },
  {
   "cell_type": "markdown",
   "source": [
    "Download TSS annotations"
   ],
   "metadata": {
    "collapsed": false,
    "pycharm": {
     "name": "#%% md\n"
    }
   }
  },
  {
   "cell_type": "code",
   "execution_count": null,
   "outputs": [],
   "source": [
    "# !wget https://resources.aertslab.org/cistarget/databases/homo_sapiens/hg38/refseq_r80/mc9nr/gene_based/hg38__refseq-r80__10kb_up_and_down_tss.mc9nr.feather"
   ],
   "metadata": {
    "collapsed": false,
    "pycharm": {
     "name": "#%%\n"
    }
   }
  },
  {
   "cell_type": "code",
   "execution_count": null,
   "outputs": [],
   "source": [
    "import glob\n",
    "import os\n",
    "\n",
    "# ranking databases\n",
    "db_glob = \"*feather\"\n",
    "db_names = \" \".join(glob.glob(db_glob))"
   ],
   "metadata": {
    "collapsed": false,
    "pycharm": {
     "name": "#%%\n"
    }
   }
  },
  {
   "cell_type": "markdown",
   "source": [
    "Download a catalog of motif-to-TF associations"
   ],
   "metadata": {
    "collapsed": false,
    "pycharm": {
     "name": "#%% md\n"
    }
   }
  },
  {
   "cell_type": "code",
   "execution_count": null,
   "outputs": [],
   "source": [
    "# !wget https://resources.aertslab.org/cistarget/motif2tf/motifs-v9-nr.hgnc-m0.001-o0.0.tbl"
   ],
   "metadata": {
    "collapsed": false,
    "pycharm": {
     "name": "#%%\n"
    }
   }
  },
  {
   "cell_type": "code",
   "execution_count": null,
   "outputs": [],
   "source": [
    "# motif databases\n",
    "motif_path = \"motifs-v9-nr.hgnc-m0.001-o0.0.tbl\"\n",
    "assert os.path.exists(motif_path)"
   ],
   "metadata": {
    "collapsed": false,
    "pycharm": {
     "name": "#%%\n"
    }
   }
  },
  {
   "cell_type": "markdown",
   "source": [
    "Using the catalog of motif and their gene associations at promotoers, retrieved a subset adjacencies by pruning of the previous adjacencies.\n",
    "This step can take ~8 minutes in a laptop."
   ],
   "metadata": {
    "collapsed": false,
    "pycharm": {
     "name": "#%% md\n"
    }
   }
  },
  {
   "cell_type": "code",
   "execution_count": null,
   "outputs": [],
   "source": [
    "!pyscenic ctx adj.csv \\\n",
    "    {db_names} \\\n",
    "    --annotations_fname {motif_path} \\\n",
    "    --expression_mtx_fname {loom_path} \\\n",
    "    --output reg.csv \\\n",
    "    --mask_dropouts \\\n",
    "    --num_workers 2 > pyscenic_ctx_stdout.txt"
   ],
   "metadata": {
    "collapsed": false,
    "pycharm": {
     "name": "#%%\n"
    }
   }
  },
  {
   "cell_type": "markdown",
   "source": [
    "To explore the candidates reported, it is recommended as a rule of thumb to explore the output by the ranking of relative contribution, or by top-quantile thresholds defined visually, to obtain a high signal-to-noise ratio."
   ],
   "metadata": {
    "collapsed": false,
    "pycharm": {
     "name": "#%% md\n"
    }
   }
  },
  {
   "cell_type": "markdown",
   "source": [
    "Define custom quantiles for further exploration"
   ],
   "metadata": {
    "collapsed": false,
    "pycharm": {
     "name": "#%% md\n"
    }
   }
  },
  {
   "cell_type": "code",
   "execution_count": null,
   "outputs": [],
   "source": [
    "import numpy as np\n",
    "\n",
    "nGenesDetectedPerCell = np.sum(adata_batch.X > 0, axis=1)\n",
    "percentiles = pd.Series(nGenesDetectedPerCell.flatten().A.flatten()).quantile(\n",
    "    [0.01, 0.05, 0.10, 0.50, 1]\n",
    ")\n",
    "print(percentiles)"
   ],
   "metadata": {
    "collapsed": false,
    "pycharm": {
     "name": "#%%\n"
    }
   }
  },
  {
   "cell_type": "code",
   "execution_count": null,
   "outputs": [],
   "source": [
    "fig, ax = plt.subplots(1, 1, figsize=(8, 5), dpi=100)\n",
    "sns.distplot(nGenesDetectedPerCell, norm_hist=False, kde=False, bins=\"fd\")\n",
    "for i, x in enumerate(percentiles):\n",
    "    fig.gca().axvline(x=x, ymin=0, ymax=1, color=\"red\")\n",
    "    ax.text(\n",
    "        x=x,\n",
    "        y=ax.get_ylim()[1],\n",
    "        s=f\"{int(x)} ({percentiles.index.values[i]*100}%)\",\n",
    "        color=\"red\",\n",
    "        rotation=30,\n",
    "        size=\"x-small\",\n",
    "        rotation_mode=\"anchor\",\n",
    "    )\n",
    "ax.set_xlabel(\"# of genes\")\n",
    "ax.set_ylabel(\"# of cells\")\n",
    "fig.tight_layout()"
   ],
   "metadata": {
    "collapsed": false,
    "pycharm": {
     "name": "#%%\n"
    }
   }
  },
  {
   "cell_type": "markdown",
   "source": [
    "This step will use TFs to calculate Area Under the Curve scores, that summarize how well the gene expression observed in each cell can be associated by the regulation of target genes regulatred by the mentioned TFs."
   ],
   "metadata": {
    "collapsed": false,
    "pycharm": {
     "name": "#%% md\n"
    }
   }
  },
  {
   "cell_type": "code",
   "execution_count": null,
   "outputs": [],
   "source": [
    "!pyscenic aucell $loom_path \\\n",
    "    reg.csv \\\n",
    "    --output {loom_path_output} \\\n",
    "    --num_workers 2 > pyscenic_aucell_stdout.txt"
   ],
   "metadata": {
    "collapsed": false,
    "pycharm": {
     "name": "#%%\n"
    }
   }
  },
  {
   "cell_type": "code",
   "execution_count": null,
   "outputs": [],
   "source": [
    "import json\n",
    "import zlib\n",
    "import base64\n",
    "\n",
    "# collect SCENIC AUCell output\n",
    "lf = lp.connect(loom_path_output, mode=\"r+\", validate=False)\n",
    "auc_mtx = pd.DataFrame(lf.ca.RegulonsAUC, index=lf.ca.CellID)\n",
    "lf.close()"
   ],
   "metadata": {
    "collapsed": false,
    "pycharm": {
     "name": "#%%\n"
    }
   }
  },
  {
   "cell_type": "markdown",
   "source": [
    "Using the above-generated matrix of cell x TFs and those scores, we can calculate a new embedding using only those."
   ],
   "metadata": {
    "collapsed": false,
    "pycharm": {
     "name": "#%% md\n"
    }
   }
  },
  {
   "cell_type": "code",
   "execution_count": null,
   "outputs": [],
   "source": [
    "from MulticoreTSNE import MulticoreTSNE as TSNE"
   ],
   "metadata": {
    "collapsed": false,
    "pycharm": {
     "name": "#%%\n"
    }
   }
  },
  {
   "cell_type": "code",
   "execution_count": null,
   "outputs": [],
   "source": [
    "import umap\n",
    "\n",
    "# UMAP\n",
    "runUmap = umap.UMAP(n_neighbors=10, min_dist=0.4, metric=\"correlation\").fit_transform\n",
    "dr_umap = runUmap(auc_mtx)\n",
    "pd.DataFrame(dr_umap, columns=[\"X\", \"Y\"], index=auc_mtx.index).to_csv(\n",
    "    \"scenic_umap.txt\", sep=\"\\t\"\n",
    ")"
   ],
   "metadata": {
    "collapsed": false,
    "pycharm": {
     "name": "#%%\n"
    }
   }
  },
  {
   "cell_type": "code",
   "execution_count": null,
   "outputs": [],
   "source": [
    "# tSNE\n",
    "tsne = TSNE(n_jobs=20)\n",
    "dr_tsne = tsne.fit_transform(auc_mtx)"
   ],
   "metadata": {
    "collapsed": false,
    "pycharm": {
     "name": "#%%\n"
    }
   }
  },
  {
   "cell_type": "code",
   "execution_count": null,
   "outputs": [],
   "source": [
    "df_tsne = pd.DataFrame(dr_tsne, columns=[\"X\", \"Y\"], index=auc_mtx.index)\n",
    "df_tsne.to_csv(\"scenic_tsne.txt\", sep=\"\\t\")"
   ],
   "metadata": {
    "collapsed": false,
    "pycharm": {
     "name": "#%%\n"
    }
   }
  },
  {
   "cell_type": "code",
   "execution_count": null,
   "outputs": [],
   "source": [
    "df_tsne.shape, adata_batch.shape"
   ],
   "metadata": {
    "collapsed": false,
    "pycharm": {
     "name": "#%%\n"
    }
   }
  },
  {
   "cell_type": "markdown",
   "source": [
    "Visualize the data base on the TF-regulons and auc_mtx generated."
   ],
   "metadata": {
    "collapsed": false,
    "pycharm": {
     "name": "#%% md\n"
    }
   }
  },
  {
   "cell_type": "code",
   "execution_count": null,
   "outputs": [],
   "source": [
    "sc.pp.neighbors(adata_batch)\n",
    "sc.tl.umap(adata_batch)"
   ],
   "metadata": {
    "collapsed": false,
    "pycharm": {
     "name": "#%%\n"
    }
   }
  },
  {
   "cell_type": "code",
   "execution_count": null,
   "outputs": [],
   "source": [
    "sc.pl.umap(adata_batch, color=\"cell_type\")"
   ],
   "metadata": {
    "collapsed": false,
    "pycharm": {
     "name": "#%%\n"
    }
   }
  },
  {
   "cell_type": "code",
   "execution_count": null,
   "outputs": [],
   "source": [
    "adata_batch.obsm[\"X_umap\"] = df_tsne.to_numpy()\n",
    "sc.pl.umap(adata_batch, color=\"cell_type\")"
   ],
   "metadata": {
    "collapsed": false,
    "pycharm": {
     "name": "#%%\n"
    }
   }
  },
  {
   "cell_type": "markdown",
   "source": [
    "### **Interpretation of results**"
   ],
   "metadata": {
    "collapsed": false,
    "pycharm": {
     "name": "#%% md\n"
    }
   }
  },
  {
   "cell_type": "code",
   "execution_count": null,
   "outputs": [],
   "source": [
    "import seaborn as sns"
   ],
   "metadata": {
    "collapsed": false,
    "pycharm": {
     "name": "#%%\n"
    }
   }
  },
  {
   "cell_type": "code",
   "execution_count": null,
   "outputs": [],
   "source": [
    "auc_mtx[\"cell_type\"] = adata_batch.obs[\"cell_type\"]\n",
    "mean_auc_by_cell_type = auc_mtx.groupby(\"cell_type\").mean()"
   ],
   "metadata": {
    "collapsed": false,
    "pycharm": {
     "name": "#%%\n"
    }
   }
  },
  {
   "cell_type": "code",
   "execution_count": null,
   "outputs": [],
   "source": [
    "show the top N TF regulons by a color"
   ],
   "metadata": {
    "collapsed": false,
    "pycharm": {
     "name": "#%%\n"
    }
   }
  },
  {
   "cell_type": "code",
   "execution_count": null,
   "outputs": [],
   "source": [
    "top_n = 50\n",
    "top_tfs = mean_auc_by_cell_type.max(axis=0).sort_values(ascending=False).head(top_n)\n",
    "mean_auc_by_cell_type_top_n = mean_auc_by_cell_type[\n",
    "    [c for c in mean_auc_by_cell_type.columns if c in top_tfs]\n",
    "]"
   ],
   "metadata": {
    "collapsed": false,
    "pycharm": {
     "name": "#%%\n"
    }
   }
  },
  {
   "cell_type": "code",
   "execution_count": null,
   "outputs": [],
   "source": [
    "sns.clustermap(\n",
    "    mean_auc_by_cell_type_top_n,\n",
    "    figsize=[15, 6.5],\n",
    "    cmap=\"Blues\",\n",
    "    xticklabels=True,\n",
    "    yticklabels=True,\n",
    ")"
   ],
   "metadata": {
    "collapsed": false,
    "pycharm": {
     "name": "#%%\n"
    }
   }
  },
  {
   "cell_type": "markdown",
   "source": [
    "This heatmap visualization is suggesting that some TFs are strongly associated to particular cell types. We can verify the expression of their expression levels as an additional validation.\n",
    "\n",
    "top"
   ],
   "metadata": {
    "collapsed": false,
    "pycharm": {
     "name": "#%% md\n"
    }
   }
  },
  {
   "cell_type": "code",
   "execution_count": null,
   "outputs": [],
   "source": [
    "tf_names = top_tfs.index.str.replace(\"\\(\\+\\)\", \"\")\n",
    "adata_batch_top_tfs = adata_batch[:, adata_batch.var_names.isin(tf_names)]"
   ],
   "metadata": {
    "collapsed": false,
    "pycharm": {
     "name": "#%%\n"
    }
   }
  },
  {
   "cell_type": "code",
   "execution_count": null,
   "outputs": [],
   "source": [
    "sc.pl.matrixplot(\n",
    "    adata_batch,\n",
    "    tf_names,\n",
    "    groupby=\"cell_type\",\n",
    "    cmap=\"Reds\",\n",
    "    dendrogram=True,\n",
    "    figsize=[15, 5.5],\n",
    "    standard_scale=\"group\",\n",
    ")"
   ],
   "metadata": {
    "collapsed": false,
    "pycharm": {
     "name": "#%%\n"
    }
   }
  },
  {
   "cell_type": "markdown",
   "source": [
    "Through visual inspection and comparison of the TF-regulon AUC scores and TF gene expression by cell type, we can verify that in several case the cell-type specific expression of a TF is linked to a particular cell type, where the respective TF-regulon is also active e.g. RUNX2 in pDCs, TCF7L2 in CD16+ Mono, LEF1 in CD4+ T activated. Additional inspection can serve to validate previous insights and/or additional associations."
   ],
   "metadata": {
    "collapsed": false,
    "pycharm": {
     "name": "#%% md\n"
    }
   }
  },
  {
   "cell_type": "markdown",
   "source": [
    "## Preparation of data for RNA+ATAC notebook\n",
    "\n",
    "Calculations in the next notebook require prior co-variation weights calculated for ATAC/RNA features, that will be done here for convenience."
   ],
   "metadata": {
    "collapsed": false,
    "pycharm": {
     "name": "#%% md\n"
    }
   }
  },
  {
   "cell_type": "markdown",
   "source": [
    "Preparation of **RNA** for RNA+ATAC notebook (s1d1)"
   ],
   "metadata": {
    "collapsed": false,
    "pycharm": {
     "name": "#%% md\n"
    }
   }
  },
  {
   "cell_type": "code",
   "execution_count": null,
   "outputs": [],
   "source": [
    "\n",
    "cd workspace/theislab/extended-single-cell-best-practices/jupyter-book/mechanisms"
   ],
   "metadata": {
    "collapsed": false,
    "pycharm": {
     "name": "#%%\n"
    }
   }
  },
  {
   "cell_type": "code",
   "execution_count": null,
   "outputs": [],
   "source": [
    "import scanpy as sc\n",
    "import os\n",
    "from matplotlib import rcParams\n",
    "import pandas as pd\n",
    "\n",
    "path_s1d1 = \"../../data/openproblems_bmmc_multiome_genes_filtered_s1d1.h5ad\"\n",
    "# print(os.path.exists(path_s1d1), path_s1d1)\n",
    "if not os.path.exists(path_s1d1):\n",
    "    adata = sc.read_h5ad(\"../../data/openproblems_bmmc_multiome_genes_filtered.h5ad\")\n",
    "    adata_s1d1 = adata[adata.obs.batch == \"s1d1\", :]\n",
    "    adata_s1d1.write(path_s1d1, compression=\"lzf\")\n",
    "    del adata\n",
    "\n",
    "adata_s1d1 = sc.read_h5ad(path_s1d1)"
   ],
   "metadata": {
    "collapsed": false,
    "pycharm": {
     "name": "#%%\n"
    }
   }
  },
  {
   "cell_type": "markdown",
   "source": [
    "Setting for plotting of UMAPs with a white background and low dpi"
   ],
   "metadata": {
    "collapsed": false,
    "pycharm": {
     "name": "#%% md\n"
    }
   }
  },
  {
   "cell_type": "code",
   "execution_count": null,
   "outputs": [],
   "source": [
    "from matplotlib import rcParams\n",
    "\n",
    "rcParams[\"figure.facecolor\"] = \"white\"\n",
    "rcParams[\"figure.figsize\"] = 5, 5\n",
    "rcParams[\"figure.dpi\"] = 65"
   ],
   "metadata": {
    "collapsed": false,
    "pycharm": {
     "name": "#%%\n"
    }
   }
  },
  {
   "cell_type": "code",
   "execution_count": null,
   "outputs": [],
   "source": [
    "rna = adata_s1d1[:, adata_s1d1.var.feature_types == \"GEX\"]\n",
    "sc.pp.log1p(rna)\n",
    "rna.obs.batch.value_counts()\n",
    "\n",
    "print(\"custom batch (input\")\n",
    "sc.pl.embedding(rna, \"GEX_X_umap\", color=[\"cell_type\", \"batch\"])"
   ],
   "metadata": {
    "collapsed": false,
    "pycharm": {
     "name": "#%%\n"
    }
   }
  },
  {
   "cell_type": "code",
   "execution_count": null,
   "outputs": [],
   "source": [
    "# rna_dense = pd.DataFrame(data=rna.X.todense())\n",
    "# rna.var.to_csv('../../data/openproblems_bmmc_multiome_genes_filtered_rna_s1d1_var.csv.gz', index=True, compression='gzip')\n",
    "rna.to_df().to_csv(\n",
    "    \"../../data/openproblems_bmmc_multiome_genes_filtered_rna_s1d1.csv.gz\",\n",
    "    compression=\"gzip\",\n",
    ")"
   ],
   "metadata": {
    "collapsed": false,
    "pycharm": {
     "name": "#%%\n"
    }
   }
  },
  {
   "cell_type": "markdown",
   "source": [
    "Preparation of **ATAC** for RNA+ATAC notebook (donor **s1d1**)"
   ],
   "metadata": {
    "collapsed": false,
    "pycharm": {
     "name": "#%% md\n"
    }
   }
  },
  {
   "cell_type": "code",
   "execution_count": null,
   "outputs": [],
   "source": [
    "atac = adata_s1d1[:, adata_s1d1.var.feature_types == \"ATAC\"]"
   ],
   "metadata": {
    "collapsed": false,
    "pycharm": {
     "name": "#%%\n"
    }
   }
  },
  {
   "cell_type": "code",
   "execution_count": null,
   "outputs": [],
   "source": [
    "n_sample = 1000\n",
    "if n_sample is not None:\n",
    "    sc.pp.highly_variable_genes(atac, n_top_genes=n_sample)\n",
    "    atac = atac[:, atac.var.highly_variable]\n",
    "atac"
   ],
   "metadata": {
    "collapsed": false,
    "pycharm": {
     "name": "#%%\n"
    }
   }
  },
  {
   "cell_type": "code",
   "execution_count": null,
   "outputs": [],
   "source": [
    "print(\"custom batch (input\")\n",
    "\n",
    "from matplotlib import rcParams\n",
    "\n",
    "rcParams[\"figure.figsize\"] = 5, 5\n",
    "sc.pl.embedding(atac, \"ATAC_umap\", color=[\"cell_type\", \"batch\"])"
   ],
   "metadata": {
    "collapsed": false,
    "pycharm": {
     "name": "#%%\n"
    }
   }
  },
  {
   "cell_type": "code",
   "execution_count": null,
   "outputs": [],
   "source": [
    "atac_obs = atac.obs\n",
    "atac_obs[\"UMAP1\"] = atac.obsm[\"ATAC_umap\"][:, 0]\n",
    "atac_obs[\"UMAP2\"] = atac.obsm[\"ATAC_umap\"][:, 1]"
   ],
   "metadata": {
    "collapsed": false,
    "pycharm": {
     "name": "#%%\n"
    }
   }
  },
  {
   "cell_type": "code",
   "execution_count": null,
   "outputs": [],
   "source": [
    "atac_obs.to_csv(\n",
    "    \"../../data/openproblems_bmmc_multiome_genes_filtered_atac_s1d1_obs.csv.gz\"\n",
    ")"
   ],
   "metadata": {
    "collapsed": false,
    "pycharm": {
     "name": "#%%\n"
    }
   }
  },
  {
   "cell_type": "code",
   "execution_count": null,
   "outputs": [],
   "source": [
    "atac_df = atac.to_df().T"
   ],
   "metadata": {
    "collapsed": false,
    "pycharm": {
     "name": "#%%\n"
    }
   }
  },
  {
   "cell_type": "code",
   "execution_count": null,
   "outputs": [],
   "source": [
    "atac_df.head()"
   ],
   "metadata": {
    "collapsed": false,
    "pycharm": {
     "name": "#%%\n"
    }
   }
  },
  {
   "cell_type": "code",
   "execution_count": null,
   "outputs": [],
   "source": [
    "atac_df[\"chr\"] = atac_df.index.str.split(\"-\").str[0]\n",
    "atac_df[\"start\"] = atac_df.index.str.split(\"-\").str[1]\n",
    "atac_df[\"end\"] = atac_df.index.str.split(\"-\").str[1]\n",
    "\n",
    "# locate at the beginning of the dataframe\n",
    "for i, c in enumerate([\"chr\", \"start\", \"end\"]):\n",
    "    print(i, c)\n",
    "    column_to_move = atac_df.pop(c)\n",
    "    atac_df.insert(i, c, column_to_move)"
   ],
   "metadata": {
    "collapsed": false,
    "pycharm": {
     "name": "#%%\n"
    }
   }
  },
  {
   "cell_type": "code",
   "execution_count": null,
   "outputs": [],
   "source": [
    "atac_bkp_path = (\n",
    "    \"../../data/openproblems_bmmc_multiome_genes_filtered_atac_s1d1_counts_transposed%s.csv.gz\"\n",
    "    % (\"\" if n_sample is None else (\"_\" + str(n_sample)))\n",
    ")\n",
    "atac_df = atac_df.T"
   ],
   "metadata": {
    "collapsed": false,
    "pycharm": {
     "name": "#%%\n"
    }
   }
  },
  {
   "cell_type": "code",
   "execution_count": null,
   "outputs": [],
   "source": [
    "if not os.path.exists(atac_bkp_path) or True:\n",
    "    atac_df.T.to_csv(atac_bkp_path, compression=\"gzip\")\n",
    "print(os.path.exists(atac_bkp_path), atac_bkp_path)"
   ],
   "metadata": {
    "collapsed": false,
    "pycharm": {
     "name": "#%%\n"
    }
   }
  },
  {
   "cell_type": "code",
   "execution_count": null,
   "outputs": [],
   "source": [
    "### Prepare peak-rna correlation\n",
    "### (deprecated. Done in R now.)\n",
    "\n",
    "#### calculating the correlations between rna and atac (slow, but only done once)\n",
    "# rna_df = rna.to_df()\n",
    "# atac_df = atac.to_df()\n",
    "# rna_df.shape, atac_df.shape\n",
    "# cis_corr = []\n",
    "# for gi, g in enumerate(rna_df.columns):\n",
    "#     if gi % 250 == 0:\n",
    "#         print(gi, g, 'out of', len(rna_df.columns))\n",
    "#     gex = rna_df[g]\n",
    "#     for p in atac_df.columns:\n",
    "#         acc = atac_df[p]\n",
    "#         corr, pval = pearsonr(gex, acc)\n",
    "#         # print(g, p, corr, pval)\n",
    "#         cis_corr.append([p, p, g, corr, pval])\n",
    "#         # assert False"
   ],
   "metadata": {
    "collapsed": false,
    "pycharm": {
     "name": "#%%\n"
    }
   }
  },
  {
   "cell_type": "markdown",
   "id": "99edd535",
   "metadata": {
    "id": "99edd535",
    "pycharm": {
     "name": "#%% md\n"
    }
   },
   "source": [
    "## Takeaways"
   ]
  },
  {
   "cell_type": "markdown",
   "id": "9d9347ab",
   "metadata": {
    "id": "9d9347ab",
    "pycharm": {
     "name": "#%% md\n"
    }
   },
   "source": [
    "In this notebook, we have:\n",
    "\n",
    "1. Setup a basic pipeline to prepare, execute, and verify SCENIC results using the NeurIPs 2021 dataset.\n",
    "2. Detected TF-regulons that allow to explain the observed transcriptomes by the regulatory potential of a handful of TFs.\n"
   ]
  },
  {
   "cell_type": "markdown",
   "id": "0968692b",
   "metadata": {
    "id": "0968692b",
    "pycharm": {
     "name": "#%% md\n"
    }
   },
   "source": [
    "## Quiz\n",
    "\n",
    "### Theory\n",
    "1. How many genes in the human/mouse genome are considered TFs?\n",
    "2. What is a TF-regulon?\n",
    "3. How many DNA-binding motifs are there to each TFs?\n",
    "    3.1. Currently, are there more known DNA-binding motifs or TFs that bind those?\n",
    "    3.2. How can one reconcile the redundancy of these during the analysis?\n",
    "\n",
    "### SCENIC\n",
    "1. Describe the major steps in the SCENIC pipeline (three or more)?\n",
    "2. What could happen if the number of TFs reported in your own data has a low overlap to the one externally retrieved?\n",
    "3. What is the AUC score from pyscenic and how it can be helpful for interpretation of results per cell cluster?\n",
    "\n",
    "## Additional reading/tasks.\n",
    "\n",
    "1. Describe the futility theorem.\n"
   ]
  },
  {
   "cell_type": "markdown",
   "source": [
    "```{bibliography}\\n\",\n",
    ":filter: docname in docnames\n",
    ":labelprefix: anno\n",
    "```"
   ],
   "metadata": {
    "collapsed": false,
    "pycharm": {
     "name": "#%% md\n"
    }
   }
  },
  {
   "cell_type": "markdown",
   "id": "f46193e4",
   "metadata": {
    "pycharm": {
     "name": "#%% md\n"
    }
   },
   "source": [
    "## Contributors\n",
    "We gratefully acknowledge the contributions of:\n",
    "### Authors\n",
    "* Ignacio Ibarra\n",
    "### Reviewers\n",
    "* Lukas Heumos"
   ]
  }
 ],
 "metadata": {
  "colab": {
   "collapsed_sections": [
    "3c1bce8a",
    "99edd535",
    "0968692b"
   ],
   "name": "280422_de.ipynb",
   "provenance": []
  },
  "kernelspec": {
   "name": "best_practices_regulons_rna",
   "language": "python",
   "display_name": "best_practices_regulons_rna"
  },
  "language_info": {
   "codemirror_mode": {
    "name": "ipython",
    "version": 3
   },
   "file_extension": ".py",
   "mimetype": "text/x-python",
   "name": "python",
   "nbconvert_exporter": "python",
   "pygments_lexer": "ipython3",
   "version": "3.9.13"
  }
 },
 "nbformat": 4,
 "nbformat_minor": 5
}