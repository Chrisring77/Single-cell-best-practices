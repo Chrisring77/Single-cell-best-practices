{
 "cells": [
  {
   "cell_type": "markdown",
   "id": "56c45daa-736e-4134-8dcf-11cef86b2253",
   "metadata": {},
   "source": [
    "# Measuring chromatin accessibility in single cells"
   ]
  },
  {
   "cell_type": "markdown",
   "id": "dbde1e3e-b839-406d-a616-9b6a6b14523e",
   "metadata": {},
   "source": [
    "## Content of this chapter"
   ]
  },
  {
   "cell_type": "markdown",
   "id": "e6328ffe-449f-4d7f-a946-f6e1baefc58f",
   "metadata": {},
   "source": [
    "- Introduction to single cell chromatin accessibility (this notebook NB1)\n",
    "- Data loading and filtering low quality cells (NB2)\n",
    "- Doublet detection in scATAC data (NB3)\n",
    "- Normalisation and dimensionality reduction (NB4)\n",
    "- Batch correction (NB5)\n",
    "- Deriving interpretable features, gene activity scores and TF motif enrichment (NB6)\n",
    "- Clustering and cell annotation (NB7)\n",
    "- In-depth analysis of regulatory elements including integration of scRNA-seq data (NB8)"
   ]
  },
  {
   "cell_type": "markdown",
   "id": "7595b9c9-acd0-45d7-8442-0637f35a9693",
   "metadata": {
    "tags": []
   },
   "source": [
    "## Why analyzing chomatin accessibility?\n",
    "\n",
    "Every cell of an organism shares the same DNA with the same set of functional units referred to as genes. With this in mind, what determines the tremendous diversity of cells reaching from natural killer cells of the immune system to neurons transmitting electrochemical signals throughout the body? In the previous chapters, we saw that cell identity and function can be inferred from gene expression profiles in each cell. The control of gene expression is driven by a complex interplay of regulatory mechanisms such as DNA methylation, histone modifications that largely determine chromatin accessibility, and transcription factor activity. For a short introduction and visualization see [this 2 minute video](https://www.youtube.com/watch?v=XelGO582s4U) on epigenetics and the regulation of gene activity (credits to Nicole Ethen from the [SQE, University of Illinois](https://www.feinberg.northwestern.edu/sites/epigenetics/)) **Format of reference to be confirmed**. For a comprehensive and up-to-date review on genome regulation and TF activity, we refer to {cite:t}`isbel2022generating`.\n",
    "\n",
    "Taken together, an essential component defining cell identity is the state of regulatory elements in each cell. In this chapter, we focus on chomatin accessibility data measured by the **Single-Cell Assay for Transposase-Accessible Chromatin with High-Throughput Sequencing (scATAC-seq)** or as part of the **10x Multiome assay (scATAC combined with scRNA-seq)**. \n",
    "\n",
    "After walking you through the preprocessing steps this analysis will allow us to:\n",
    "1) characterize cell identity with an orthogonal approach to scRNA-seq analysis\n",
    "2) identify cell state specific transcriptional regulators\n",
    "3) link gene expression to sequence features\n",
    "4) disentagle epigenetic mechanisms driving cell differentiation and disease states\n",
    "\n",
    "After showcasing steps of the unimodal analysis, we will discuss the integration with other modalities."
   ]
  },
  {
   "cell_type": "markdown",
   "id": "c2f99a75-fdf0-4670-b800-ef841c09a152",
   "metadata": {},
   "source": [
    "## The experimental view - single-cell ATAC-seq and the 10x Multiome assay\n",
    "\n",
    "We anticipate, that commertially available kits will be the most widely used experimental protocols and therefore showcase our analysis on data generated with the 10x Multiome assay (with minor changes this also applies on data generated with the unimodal 10x single cell ATAC-seq assay).\n",
    "\n",
    "The key priniciple used to measure chromatin accessibility is the Assay for Transposase-Accessible Chromatin with High-Throughput Sequencing. \n",
    "\n",
    "**Image below from BioRender, modify to represent the 10x  multiome protocol (nuclei extraction and Tagmentation in bulk, followed by ATAC-seq and RNA-seq)**\n",
    "\n",
    "![alt text](ATAC-seq_overview.png \"ATAC-seq_overview\")\n"
   ]
  },
  {
   "cell_type": "markdown",
   "id": "d3d8dacc-51d3-4899-9a26-cabda521a782",
   "metadata": {},
   "source": [
    "Starting point is a single cell suspension of the tissue of interest. Nuclei are extracted and the transposition is performed in bulk using a Tn5-transposase which binds to open regions in the chromatin and generates tagmented DNA fragments. Nuclei are then loaded onto a 10x Chromium Controller and droplets containing gel beads and single cells, also referred to as Gel Bead-in-Emulsion (GEMs), are formed. Within each droplet, RNA molecules and DNA fragments are barcoded, and after dissolving the GEMs, nucleotide sequences are preamlified to receive the final scATAC-seq and scRNA-seq libraries."
   ]
  },
  {
   "cell_type": "markdown",
   "id": "bca4f6e7-bc0d-4c2e-a284-a274637dad7f",
   "metadata": {},
   "source": [
    "## Data characteristics - feature definition and sparsity \n",
    "\n",
    "Single-cell ATAC-seq data measures chromatin accesibility across the entire genome. Since this includes coding and non-coding regions, genes can not be used as pre-defined features, as it is the case in scRNA-seq data. Instead, the most common approach to define biologically meaningful features is detecting regions of accesibility - i.e. peaks in the distribution of fragment counts along the genome. Peaks in coding regions indicate that a gene might be transcribed, while in non-coding regions accessibility is seen as a prerequisite or result for the binding of regulatory proteins such as transcription factors.\n",
    "\n",
    "**ToDo**\n",
    "- add sentense on peak calling (incl. cluster specific peaks)\n",
    "- explain bins as alternative approach (**add figure**)\n",
    "- mention harmonizing features across multiple samples\n",
    "\n",
    "\n",
    "Another important characteristic of scATAC data is its high sparsity. In a diploid organism there are only two copies of DNA in each cell, which results in a maximum of 2 counts for a given position. Therefore, some of the tools commonly used in scRNA-seq analysis are less suitable or need to be adjusted for scATAC-seq data.\n"
   ]
  },
  {
   "cell_type": "markdown",
   "id": "ca71d10e-b3d4-4de9-bcbd-31cd4ff13a85",
   "metadata": {},
   "source": [
    "## Overview of the data analyis workflow"
   ]
  },
  {
   "cell_type": "markdown",
   "id": "a82de455-53ab-4fa5-b8b5-b5c9ca1a261a",
   "metadata": {},
   "source": [
    "**ToDo**"
   ]
  },
  {
   "cell_type": "code",
   "execution_count": null,
   "id": "234beb4d-ae60-4f7a-917f-08f1236c107b",
   "metadata": {},
   "outputs": [],
   "source": []
  }
 ],
 "metadata": {
  "kernelspec": {
   "display_name": "Python 3 (ipykernel)",
   "language": "python",
   "name": "python3"
  },
  "language_info": {
   "codemirror_mode": {
    "name": "ipython",
    "version": 3
   },
   "file_extension": ".py",
   "mimetype": "text/x-python",
   "name": "python",
   "nbconvert_exporter": "python",
   "pygments_lexer": "ipython3",
   "version": "3.9.13"
  }
 },
 "nbformat": 4,
 "nbformat_minor": 5
}
